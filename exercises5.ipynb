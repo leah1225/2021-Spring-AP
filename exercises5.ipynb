{
 "cells": [
  {
   "cell_type": "markdown",
   "metadata": {
    "deletable": false,
    "editable": false
   },
   "source": [
    "# Analytic Programming\n",
    "\n",
    "> Homework 5: Analytic Programming, NTU, Spring, 2021.\n",
    "\n",
    "Kuo, Yao-Jen <yaojenkuo@ntu.edu.tw> from [DATAINPOINT](https://www.datainpoint.com)"
   ]
  },
  {
   "cell_type": "markdown",
   "metadata": {
    "deletable": false,
    "editable": false
   },
   "source": [
    "## Instructions\n",
    "\n",
    "- We've imported necessary modules/libraries at the beginning of each exercise.\n",
    "- We've put necessary files(if any) in the working directory of each exercise.\n",
    "- We've defined the names of functions/inputs/arguments for you.\n",
    "- Write down your solution between the comments `### BEGIN SOLUTION` and `### END SOLUTION`.\n",
    "- Running tests to see if your solutions are right: Kernel -> Restart & Run All -> Restart and Run All Cells.\n",
    "- You can run tests after each question or after finishing all questions.\n",
    "- REMEMBER to upload your `.ipynb` file to [CEIBA](https://ceiba.ntu.edu.tw/) before 2021-05-21 20:59:59 when you are done running tests."
   ]
  },
  {
   "cell_type": "code",
   "execution_count": 230,
   "metadata": {
    "deletable": false,
    "editable": false
   },
   "outputs": [],
   "source": [
    "import numpy as np\n",
    "import pandas as pd\n",
    "import json\n",
    "import unittest"
   ]
  },
  {
   "cell_type": "markdown",
   "metadata": {},
   "source": [
    "## 00. Define a function named `import_olympic_medals` that is able to import a given csv file `all_time_olympic_medals.csv` as a pandas DataFrame.\n",
    "\n",
    "- Expected inputs: a CSV file `all_time_olympic_medals.csv`.\n",
    "- Expected outputs: a (153, 17) DataFrame."
   ]
  },
  {
   "cell_type": "code",
   "execution_count": 231,
   "metadata": {},
   "outputs": [],
   "source": [
    "def import_olympic_medals(csv_file_path):\n",
    "    \"\"\"\n",
    "    >>> olympic_medals = import_olympic_medals(\"all_time_olympic_medals.csv\")\n",
    "    >>> type(olympic_medals)\n",
    "    pandas.core.frame.DataFrame\n",
    "    >>> olympic_medals.shape\n",
    "    (153, 17)\n",
    "    \"\"\"\n",
    "    ### BEGIN SOLUTION\n",
    "    data = pd.read_csv(csv_file_path)\n",
    "    return data\n",
    "    ### END SOLUTION"
   ]
  },
  {
   "cell_type": "markdown",
   "metadata": {},
   "source": [
    "## 01. Define a function named `find_taiwan_from_olympic_medals` that is able to retrieve the data of Taiwan as a pandas DataFrame.\n",
    "\n",
    "PS Taiwan might not be \"Taiwan\" in Olympic data.\n",
    "\n",
    "- Expected inputs: a CSV file `all_time_olympic_medals.csv`.\n",
    "- Expected outputs: a (1, 17) DataFrame.\n",
    "\n",
    "```\n",
    "          team_name team_ioc  no_summer_games  no_summer_golds  \\\n",
    "128  Chinese Taipei      TPE               14                5   \n",
    "\n",
    "     no_summer_silvers  no_summer_bronzes  no_summer_totals  no_winter_games  \\\n",
    "128                  7                 12                24               12   \n",
    "\n",
    "     no_winter_golds  no_winter_silvers  no_winter_bronzes  no_winter_totals  \\\n",
    "128                0                  0                  0                 0   \n",
    "\n",
    "     no_combined_games  no_combined_golds  no_combined_silvers  \\\n",
    "128                 26                  5                    7   \n",
    "\n",
    "     no_combined_bronzes  no_combined_totals  \n",
    "128                   12                  24  \n",
    "```"
   ]
  },
  {
   "cell_type": "code",
   "execution_count": 232,
   "metadata": {},
   "outputs": [],
   "source": [
    "def find_taiwan_from_olympic_medals(csv_file_path):\n",
    "    \"\"\"\n",
    "    >>> taiwan_medals = find_taiwan_from_olympic_medals('all_time_olympic_medals.csv')\n",
    "    >>> type(taiwan_medals)\n",
    "    pandas.core.frame.DataFrame\n",
    "    >>> taiwan_medals.shape\n",
    "    (1, 17)\n",
    "    >>> taiwan_medals['team_name'].values[0]\n",
    "    'Chinese Taipei'\n",
    "    \"\"\"\n",
    "    ### BEGIN SOLUTION\n",
    "    olympic_medals = import_olympic_medals(csv_file_path)\n",
    "    taiwan = olympic_medals['team_ioc'] == 'TPE'\n",
    "    return olympic_medals[taiwan]\n",
    "    ### END SOLUTION"
   ]
  },
  {
   "cell_type": "markdown",
   "metadata": {},
   "source": [
    "## 02. Define a function named `find_the_king_of_summer_olympics` that is able to retrieve the data of the country that won the most gold medals in summer Olympics.\n",
    "\n",
    "- Expected inputs: a CSV file `all_time_olympic_medals.csv`.\n",
    "- Expected outputs: a (1, 17) DataFrame."
   ]
  },
  {
   "cell_type": "code",
   "execution_count": 233,
   "metadata": {},
   "outputs": [],
   "source": [
    "def find_the_king_of_summer_olympics(csv_file_path):\n",
    "    \"\"\"\n",
    "    >>> the_king_of_summer_olympics = find_the_king_of_summer_olympics('all_time_olympic_medals.csv')\n",
    "    >>> type(the_king_of_summer_olympics)\n",
    "    pandas.core.frame.DataFrame\n",
    "    >>> the_king_of_summer_olympics.shape\n",
    "    (1, 17)\n",
    "    >>> the_king_of_summer_olympics['no_summer_golds'].values[0]\n",
    "    1022\n",
    "    >>> the_king_of_summer_olympics['team_name'].values[0]\n",
    "    'United States'\n",
    "    \"\"\"\n",
    "    ### BEGIN SOLUTION\n",
    "    olympic_medals = import_olympic_medals(csv_file_path)\n",
    "    max_summer_golds = olympic_medals['no_summer_golds'][:152].max()  # row 153: Total\n",
    "    return olympic_medals[olympic_medals['no_summer_golds'] == max_summer_golds]\n",
    "    ### END SOLUTION"
   ]
  },
  {
   "cell_type": "markdown",
   "metadata": {},
   "source": [
    "## 03. Define a function named `find_the_king_of_winter_olympics` that is able to retrieve the data of the country that won the most gold medals in winter Olympics.\n",
    "\n",
    "- Expected inputs: a CSV file `all_time_olympic_medals.csv`.\n",
    "- Expected outputs: a (1, 17) DataFrame."
   ]
  },
  {
   "cell_type": "code",
   "execution_count": 234,
   "metadata": {},
   "outputs": [],
   "source": [
    "def find_the_king_of_winter_olympics(csv_file_path):\n",
    "    \"\"\"\n",
    "    >>> the_king_of_winter_olympics = find_the_king_of_winter_olympics('all_time_olympic_medals.csv')\n",
    "    >>> type(the_king_of_winter_olympics)\n",
    "    pandas.core.frame.DataFrame\n",
    "    >>> the_king_of_winter_olympics.shape\n",
    "    (1, 17)\n",
    "    >>> the_king_of_winter_olympics['no_winter_golds'].values[0]\n",
    "    132\n",
    "    >>> the_king_of_winter_olympics['team_name'].values[0]\n",
    "    'Norway'\n",
    "    \"\"\"\n",
    "    ### BEGIN SOLUTION\n",
    "    olympic_medals = import_olympic_medals(csv_file_path)\n",
    "    max_winter_golds = olympic_medals['no_winter_golds'][:152].max()\n",
    "    return olympic_medals[olympic_medals['no_winter_golds'] == max_winter_golds]\n",
    "    ### END SOLUTION"
   ]
  },
  {
   "cell_type": "markdown",
   "metadata": {},
   "source": [
    "## 04. Define a function named `find_largest_ratio_country` that is able to retrieve the data of the country that has the largest ratio according to the formula:\n",
    "\n",
    "\\begin{equation}\n",
    "\\text{Ratio} = \\frac{\\text{Summer Gold} - \\text{Winter Gold}}{\\text{Total Gold}}\n",
    "\\end{equation}\n",
    "\n",
    "PS You have to exclude the countries with ratio calculated as 1.\n",
    "\n",
    "- Expected inputs: a CSV file `all_time_olympic_medals.csv`.\n",
    "- Expected outputs: a (1, 17) DataFrame."
   ]
  },
  {
   "cell_type": "code",
   "execution_count": 235,
   "metadata": {},
   "outputs": [],
   "source": [
    "def find_largest_ratio_country(csv_file_path):\n",
    "    \"\"\"\n",
    "    >>> largest_ratio_country = find_largest_ratio_country('all_time_olympic_medals.csv')\n",
    "    >>> type(largest_ratio_country)\n",
    "    pandas.core.frame.DataFrame\n",
    "    >>> largest_ratio_country.shape\n",
    "    (1, 17)\n",
    "    >>> largest_ratio_country['team_name'].values[0]\n",
    "    'Hungary'\n",
    "    \"\"\"\n",
    "    ### BEGIN SOLUTION\n",
    "    olympic_medals = import_olympic_medals(csv_file_path)\n",
    "    olympic_medals = olympic_medals[:152] # drop Total\n",
    "    ratio_not_1 = olympic_medals[(olympic_medals['no_summer_golds']-olympic_medals['no_winter_golds'])!=(olympic_medals['no_summer_golds']+olympic_medals['no_winter_golds'])]\n",
    "    max_ratio = ((ratio_not_1['no_summer_golds']-ratio_not_1['no_winter_golds'])/(ratio_not_1['no_summer_golds']+ratio_not_1['no_winter_golds'])).max()\n",
    "    return ratio_not_1[(ratio_not_1['no_summer_golds']-ratio_not_1['no_winter_golds'])/(ratio_not_1['no_summer_golds']+ratio_not_1['no_winter_golds']) == max_ratio]\n",
    "    ### END SOLUTION"
   ]
  },
  {
   "cell_type": "markdown",
   "metadata": {},
   "source": [
    "## 05. Define a function named `create_nba_teams` that is able to create a DataFrame as expected given a JSON file `teams.json`.\n",
    "\n",
    "- Expected inputs: a JSON file `teams.json`.\n",
    "- Expected outputs: a (30, 5) DataFrame.\n",
    "\n",
    "```\n",
    "   tricode confName    divName           city                fullName\n",
    "0      ATL     East  Southeast        Atlanta           Atlanta Hawks\n",
    "1      BOS     East   Atlantic         Boston          Boston Celtics\n",
    "2      BKN     East   Atlantic       Brooklyn           Brooklyn Nets\n",
    "3      CHA     East  Southeast      Charlotte       Charlotte Hornets\n",
    "4      CHI     East    Central        Chicago           Chicago Bulls\n",
    "5      CLE     East    Central      Cleveland     Cleveland Cavaliers\n",
    "6      DAL     West  Southwest         Dallas        Dallas Mavericks\n",
    "7      DEN     West  Northwest         Denver          Denver Nuggets\n",
    "8      DET     East    Central        Detroit         Detroit Pistons\n",
    "9      GSW     West    Pacific   Golden State   Golden State Warriors\n",
    "10     HOU     West  Southwest        Houston         Houston Rockets\n",
    "11     IND     East    Central        Indiana          Indiana Pacers\n",
    "12     LAC     West    Pacific             LA             LA Clippers\n",
    "13     LAL     West    Pacific    Los Angeles      Los Angeles Lakers\n",
    "14     MEM     West  Southwest        Memphis       Memphis Grizzlies\n",
    "15     MIA     East  Southeast          Miami              Miami Heat\n",
    "16     MIL     East    Central      Milwaukee         Milwaukee Bucks\n",
    "17     MIN     West  Northwest      Minnesota  Minnesota Timberwolves\n",
    "18     NOP     West  Southwest    New Orleans    New Orleans Pelicans\n",
    "19     NYK     East   Atlantic       New York         New York Knicks\n",
    "20     OKC     West  Northwest  Oklahoma City   Oklahoma City Thunder\n",
    "21     ORL     East  Southeast        Orlando           Orlando Magic\n",
    "22     PHI     East   Atlantic   Philadelphia      Philadelphia 76ers\n",
    "23     PHX     West    Pacific        Phoenix            Phoenix Suns\n",
    "24     POR     West  Northwest       Portland  Portland Trail Blazers\n",
    "25     SAC     West    Pacific     Sacramento        Sacramento Kings\n",
    "26     SAS     West  Southwest    San Antonio       San Antonio Spurs\n",
    "27     TOR     East   Atlantic        Toronto         Toronto Raptors\n",
    "28     UTA     West  Northwest           Utah               Utah Jazz\n",
    "29     WAS     East  Southeast     Washington      Washington Wizards\n",
    "```"
   ]
  },
  {
   "cell_type": "code",
   "execution_count": 236,
   "metadata": {},
   "outputs": [],
   "source": [
    "def create_nba_teams(json_file_path):\n",
    "    \"\"\"\n",
    "    >>> nba_teams = create_nba_teams('teams.json')\n",
    "    >>> type(nba_teams)\n",
    "    pandas.core.frame.DataFrame\n",
    "    >>> nba_teams.shape\n",
    "    (30, 5)\n",
    "    \"\"\"\n",
    "    ### BEGIN SOLUTION\n",
    "    data = pd.read_json(json_file_path)\n",
    "    data = pd.DataFrame(data['league']['standard'])\n",
    "    cols = ['tricode', 'confName', 'divName', 'city', 'fullName']\n",
    "    return data[cols]\n",
    "    ### END SOLUTION"
   ]
  },
  {
   "cell_type": "markdown",
   "metadata": {},
   "source": [
    "## 06. Define a function named `find_east_teams` that is able to create a DataFrame as expected given a JSON file `teams.json`.\n",
    "\n",
    "- Expected inputs: a JSON file `teams.json`.\n",
    "- Expected outputs: a (15, 5) DataFrame.\n",
    "\n",
    "```\n",
    "   tricode confName    divName          city             fullName\n",
    "0      ATL     East  Southeast       Atlanta        Atlanta Hawks\n",
    "1      BOS     East   Atlantic        Boston       Boston Celtics\n",
    "2      BKN     East   Atlantic      Brooklyn        Brooklyn Nets\n",
    "3      CHA     East  Southeast     Charlotte    Charlotte Hornets\n",
    "4      CHI     East    Central       Chicago        Chicago Bulls\n",
    "5      CLE     East    Central     Cleveland  Cleveland Cavaliers\n",
    "6      DET     East    Central       Detroit      Detroit Pistons\n",
    "7      IND     East    Central       Indiana       Indiana Pacers\n",
    "8      MIA     East  Southeast         Miami           Miami Heat\n",
    "9      MIL     East    Central     Milwaukee      Milwaukee Bucks\n",
    "10     NYK     East   Atlantic      New York      New York Knicks\n",
    "11     ORL     East  Southeast       Orlando        Orlando Magic\n",
    "12     PHI     East   Atlantic  Philadelphia   Philadelphia 76ers\n",
    "13     TOR     East   Atlantic       Toronto      Toronto Raptors\n",
    "14     WAS     East  Southeast    Washington   Washington Wizards\n",
    "```"
   ]
  },
  {
   "cell_type": "code",
   "execution_count": 237,
   "metadata": {},
   "outputs": [],
   "source": [
    "def find_east_teams(json_file_path):\n",
    "    \"\"\"\n",
    "    >>> east_teams = find_east_teams('teams.json')\n",
    "    >>> type(east_teams)\n",
    "    pandas.core.frame.DataFrame\n",
    "    >>> east_teams.shape\n",
    "    (15, 5)\n",
    "    \"\"\"\n",
    "    ### BEGIN SOLUTION\n",
    "    nba_teams = create_nba_teams(json_file_path)\n",
    "    is_east = nba_teams['confName'] == 'East'\n",
    "    return nba_teams[is_east]\n",
    "    ### END SOLUTION"
   ]
  },
  {
   "cell_type": "markdown",
   "metadata": {},
   "source": [
    "## 07. Define a function named `create_head_coaches` that is able to create a DataFrame as expected given a JSON file `coaches.json`.\n",
    "\n",
    "- Expected inputs: a JSON file `coaches.json`.\n",
    "- Expected outputs: a (30, 3) DataFrame.\n",
    "\n",
    "```\n",
    "   team_tricode  first_name    last_name\n",
    "0           PHI         Doc       Rivers\n",
    "1           POR       Terry       Stotts\n",
    "2           MIL        Mike  Budenholzer\n",
    "3           CHI       Billy      Donovan\n",
    "4           CLE  John-Blair  Bickerstaff\n",
    "5           BOS        Brad      Stevens\n",
    "6           LAC      Tyronn          Lue\n",
    "7           MEM      Taylor      Jenkins\n",
    "8           ATL        Nate     McMillan\n",
    "9           MIA        Erik    Spoelstra\n",
    "10          CHA       James      Borrego\n",
    "11          UTA        Quin       Snyder\n",
    "12          SAC        Luke       Walton\n",
    "13          NYK         Tom    Thibodeau\n",
    "14          LAL       Frank        Vogel\n",
    "15          ORL       Steve     Clifford\n",
    "16          DAL        Rick     Carlisle\n",
    "17          BKN       Steve         Nash\n",
    "18          DEN     Michael       Malone\n",
    "19          IND        Nate    Bjorkgren\n",
    "20          NOP        Stan    Van Gundy\n",
    "21          DET       Dwane        Casey\n",
    "22          TOR        Nick        Nurse\n",
    "23          HOU     Stephen        Silas\n",
    "24          SAS       Gregg     Popovich\n",
    "25          PHX       Monty     Williams\n",
    "26          OKC        Mark   Daigneault\n",
    "27          MIN       Chris        Finch\n",
    "28          GSW       Steve         Kerr\n",
    "29          WAS       Scott       Brooks\n",
    "```"
   ]
  },
  {
   "cell_type": "code",
   "execution_count": 238,
   "metadata": {},
   "outputs": [],
   "source": [
    "def create_head_coaches(json_file_path):\n",
    "    \"\"\"\n",
    "    >>> head_coaches = create_head_coaches('coaches.json')\n",
    "    >>> type(head_coaches)\n",
    "    pandas.core.frame.DataFrame\n",
    "    >>> head_coaches.shape\n",
    "    (30, 3)\n",
    "    \"\"\"\n",
    "    ### BEGIN SOLUTION\n",
    "    coaches = pd.read_json('coaches.json')\n",
    "    coaches = pd.DataFrame(coaches['league']['standard'])\n",
    "    \n",
    "    is_head = coaches['isAssistant'] == False\n",
    "    coaches = coaches[is_head]\n",
    "    \n",
    "    head_coaches = pd.DataFrame()\n",
    "    head_coaches['team_tricode'] = pd.DataFrame.from_dict(list(coaches['teamSitesOnly']))['teamTricode'] #important step\n",
    "    head_coaches['first_name'] = list(coaches['firstName']) # drop index\n",
    "    head_coaches['last_name'] = list(coaches['lastName']) # drop index\n",
    "    return head_coaches\n",
    "    ### END SOLUTION"
   ]
  },
  {
   "cell_type": "markdown",
   "metadata": {},
   "source": [
    "## 08. Define a function named `create_nba_player_heights` that is able to create a DataFrame as expected given a JSON file `players.json`.\n",
    "\n",
    "PS You have to exclude the players who is not active(`isActive == False`).\n",
    "\n",
    "- Expected inputs: a JSON file `players.json`.\n",
    "- Expected outputs: a (502, 3) DataFrame.\n",
    "\n",
    "```\n",
    "    first_name         last_name  height_meter\n",
    "0     Precious           Achiuwa          2.03\n",
    "1       Steven             Adams          2.11\n",
    "2          Bam           Adebayo          2.06\n",
    "3      Ty-Shon         Alexander          1.90\n",
    "4      Nickeil  Alexander-Walker          1.98\n",
    "..         ...               ...           ...\n",
    "497      Delon            Wright          1.96\n",
    "498   Thaddeus             Young          2.03\n",
    "499       Trae             Young          1.85\n",
    "500       Cody            Zeller          2.11\n",
    "501      Ivica             Zubac          2.13\n",
    "\n",
    "[502 rows x 3 columns]\n",
    "```"
   ]
  },
  {
   "cell_type": "code",
   "execution_count": 239,
   "metadata": {},
   "outputs": [],
   "source": [
    "def create_nba_player_heights(json_file_path):\n",
    "    \"\"\"\n",
    "    >>> nba_player_heights = create_nba_player_heights('players.json')\n",
    "    >>> type(nba_player_heights)\n",
    "    pandas.core.frame.DataFrame\n",
    "    >>> nba_player_heights.shape\n",
    "    (502, 3)\n",
    "    \"\"\"\n",
    "    ### BEGIN SOLUTION\n",
    "    data = pd.read_json(json_file_path)\n",
    "    data = data['league']['standard']\n",
    "    players = pd.DataFrame.from_dict(data)\n",
    "    is_active = players['isActive'] == True\n",
    "    cols = ['firstName' , 'lastName', 'heightMeters']\n",
    "    return players[is_active][cols]\n",
    "    ### END SOLUTION"
   ]
  },
  {
   "cell_type": "markdown",
   "metadata": {},
   "source": [
    "## 09. Define a function named `find_tallest_shortest_players` that is able to create a DataFrame as expected given a JSON file `players.json`.\n",
    "\n",
    "PS You have to exclude the players who is not active(`isActive == False`).\n",
    "\n",
    "- Expected inputs: a JSON file `players.json`.\n",
    "- Expected outputs: a (5, 4) DataFrame.\n",
    "\n",
    "```\n",
    "  first_name last_name  height_meter       tag\n",
    "0    Facundo  Campazzo          1.78  shortest\n",
    "1      Tacko      Fall          2.26   tallest\n",
    "2      Jared    Harper          1.78  shortest\n",
    "3     Markus    Howard          1.78  shortest\n",
    "4    Tremont    Waters          1.78  shortest\n",
    "```"
   ]
  },
  {
   "cell_type": "code",
   "execution_count": 254,
   "metadata": {},
   "outputs": [],
   "source": [
    "def find_tallest_shortest_players(json_file_path):\n",
    "    \"\"\"\n",
    "    >>> tallest_shortest_players = find_tallest_shortest_players('players.json')\n",
    "    >>> type(tallest_shortest_players)\n",
    "    pandas.core.frame.DataFrame\n",
    "    >>> tallest_shortest_players.shape\n",
    "    (5, 4)\n",
    "    \"\"\"\n",
    "    ### BEGIN SOLUTION\n",
    "    nba_player_heights = create_nba_player_heights(json_file_path)\n",
    "    max_height = nba_player_heights['heightMeters'].max()\n",
    "    min_height = nba_player_heights['heightMeters'].min()\n",
    "    is_max_min = (nba_player_heights['heightMeters'] == max_height) | (nba_player_heights['heightMeters'] == min_height)\n",
    "\n",
    "    max_min_players = nba_player_heights[is_max_min].copy() # deep copy\n",
    "    max_min_players['tag'] = ['shortest' if h == min_height else 'tallest' for h in max_min_players['heightMeters']]\n",
    "    return max_min_players        \n",
    "    ### END SOLUTION"
   ]
  },
  {
   "cell_type": "markdown",
   "metadata": {
    "deletable": false,
    "editable": false
   },
   "source": [
    "## Run tests!\n",
    "\n",
    "Kernel -> Restart & Run All. -> Restart And Run All Cells."
   ]
  },
  {
   "cell_type": "code",
   "execution_count": 255,
   "metadata": {
    "deletable": false,
    "editable": false
   },
   "outputs": [
    {
     "name": "stderr",
     "output_type": "stream",
     "text": [
      "test_00_import_olympic_medals (__main__.TestHomeworkFive) ... ok\n",
      "test_01_find_taiwan_from_olympic_medals (__main__.TestHomeworkFive) ... ok\n",
      "test_02_find_the_king_of_summer_olympics (__main__.TestHomeworkFive) ... ok\n",
      "test_03_find_the_king_of_winter_olympics (__main__.TestHomeworkFive) ... ok\n",
      "test_04_find_largest_ratio_country (__main__.TestHomeworkFive) ... ok\n",
      "test_05_create_nba_teams (__main__.TestHomeworkFive) ... ok\n",
      "test_06_find_east_teams (__main__.TestHomeworkFive) ... ok\n",
      "test_07_create_head_coaches (__main__.TestHomeworkFive) ... ok\n",
      "test_08_create_nba_player_heights (__main__.TestHomeworkFive) ... ok\n",
      "test_09_find_tallest_shortest_players (__main__.TestHomeworkFive) ... ok\n",
      "\n",
      "----------------------------------------------------------------------\n",
      "Ran 10 tests in 0.181s\n",
      "\n",
      "OK\n"
     ]
    }
   ],
   "source": [
    "class TestHomeworkFive(unittest.TestCase):\n",
    "    def test_00_import_olympic_medals(self):\n",
    "        olympic_medals = import_olympic_medals(\"all_time_olympic_medals.csv\")\n",
    "        self.assertIsInstance(olympic_medals, pd.core.frame.DataFrame)\n",
    "        self.assertEqual(olympic_medals.shape, (153, 17))\n",
    "    def test_01_find_taiwan_from_olympic_medals(self):\n",
    "        taiwan_medals = find_taiwan_from_olympic_medals('all_time_olympic_medals.csv')\n",
    "        self.assertIsInstance(taiwan_medals, pd.core.frame.DataFrame)\n",
    "        self.assertEqual(taiwan_medals.shape, (1, 17))\n",
    "    def test_02_find_the_king_of_summer_olympics(self):\n",
    "        the_king_of_summer_olympics = find_the_king_of_summer_olympics('all_time_olympic_medals.csv')\n",
    "        self.assertIsInstance(the_king_of_summer_olympics, pd.core.frame.DataFrame)\n",
    "        self.assertEqual(the_king_of_summer_olympics.shape, (1, 17))\n",
    "        self.assertEqual(the_king_of_summer_olympics['no_summer_golds'].values[0], 1022)\n",
    "        self.assertEqual(the_king_of_summer_olympics['team_name'].values[0], 'United States')\n",
    "    def test_03_find_the_king_of_winter_olympics(self):\n",
    "        the_king_of_winter_olympics = find_the_king_of_winter_olympics('all_time_olympic_medals.csv')\n",
    "        self.assertIsInstance(the_king_of_winter_olympics, pd.core.frame.DataFrame)\n",
    "        self.assertEqual(the_king_of_winter_olympics.shape, (1, 17))\n",
    "        self.assertEqual(the_king_of_winter_olympics['no_winter_golds'].values[0], 132)\n",
    "        self.assertEqual(the_king_of_winter_olympics['team_name'].values[0], 'Norway')\n",
    "    def test_04_find_largest_ratio_country(self):\n",
    "        largest_ratio_country = find_largest_ratio_country('all_time_olympic_medals.csv')\n",
    "        self.assertIsInstance(largest_ratio_country, pd.core.frame.DataFrame)\n",
    "        self.assertEqual(largest_ratio_country.shape, (1, 17))\n",
    "        self.assertEqual(largest_ratio_country['team_name'].values[0], 'Hungary')\n",
    "    def test_05_create_nba_teams(self):\n",
    "        nba_teams = create_nba_teams('teams.json')\n",
    "        self.assertIsInstance(nba_teams, pd.core.frame.DataFrame)\n",
    "        self.assertEqual(nba_teams.shape, (30, 5))\n",
    "        column_names = nba_teams.columns\n",
    "        self.assertTrue('tricode' in column_names)\n",
    "        self.assertTrue('confName' in column_names)\n",
    "        self.assertTrue('divName' in column_names)\n",
    "        self.assertTrue('city' in column_names)\n",
    "        self.assertTrue('fullName' in column_names)\n",
    "    def test_06_find_east_teams(self):\n",
    "        east_teams = find_east_teams('teams.json')\n",
    "        self.assertIsInstance(east_teams, pd.core.frame.DataFrame)\n",
    "        self.assertEqual(east_teams.shape, (15, 5))\n",
    "        div_names = east_teams['divName'].values\n",
    "        self.assertTrue('Atlantic' in div_names)\n",
    "        self.assertTrue('Southeast' in div_names)\n",
    "        self.assertTrue('Central' in div_names)\n",
    "    def test_07_create_head_coaches(self):\n",
    "        head_coaches = create_head_coaches('coaches.json')\n",
    "        self.assertIsInstance(head_coaches, pd.core.frame.DataFrame)\n",
    "        self.assertEqual(head_coaches.shape, (30, 3))\n",
    "        tricodes = head_coaches.iloc[:, 0].values\n",
    "        self.assertTrue('PHI' in tricodes)\n",
    "        self.assertTrue('BKN' in tricodes)\n",
    "        self.assertTrue('WAS' in tricodes)\n",
    "    def test_08_create_nba_player_heights(self):\n",
    "        nba_player_heights = create_nba_player_heights('players.json')\n",
    "        self.assertIsInstance(nba_player_heights, pd.core.frame.DataFrame)\n",
    "        self.assertEqual(nba_player_heights.shape, (502, 3))\n",
    "    def test_09_find_tallest_shortest_players(self):\n",
    "        tallest_shortest_players = find_tallest_shortest_players('players.json')\n",
    "        self.assertIsInstance(tallest_shortest_players, pd.core.frame.DataFrame)\n",
    "        self.assertEqual(tallest_shortest_players.shape, (5, 4))\n",
    "        tags = tallest_shortest_players.iloc[:, 3].values\n",
    "        self.assertTrue('tallest' in tags)\n",
    "        self.assertTrue('shortest' in tags)\n",
    "        first_names = tallest_shortest_players.iloc[:, 0].values\n",
    "        self.assertTrue('Tacko' in first_names)\n",
    "        last_names = tallest_shortest_players.iloc[:, 1].values\n",
    "        self.assertTrue('Fall' in last_names)\n",
    "\n",
    "suite = unittest.TestLoader().loadTestsFromTestCase(TestHomeworkFive)\n",
    "runner = unittest.TextTestRunner(verbosity=2)\n",
    "test_results = runner.run(suite)\n",
    "number_of_failures = len(test_results.failures)\n",
    "number_of_errors = len(test_results.errors)\n",
    "number_of_test_runs = test_results.testsRun\n",
    "number_of_successes = number_of_test_runs - (number_of_failures + number_of_errors)"
   ]
  },
  {
   "cell_type": "code",
   "execution_count": 256,
   "metadata": {
    "deletable": false,
    "editable": false
   },
   "outputs": [
    {
     "name": "stdout",
     "output_type": "stream",
     "text": [
      "You've got 10 successes among 10 questions.\n"
     ]
    }
   ],
   "source": [
    "print(\"You've got {} successes among {} questions.\".format(number_of_successes, number_of_test_runs))"
   ]
  }
 ],
 "metadata": {
  "kernelspec": {
   "display_name": "Python 3",
   "language": "python",
   "name": "python3"
  },
  "language_info": {
   "codemirror_mode": {
    "name": "ipython",
    "version": 3
   },
   "file_extension": ".py",
   "mimetype": "text/x-python",
   "name": "python",
   "nbconvert_exporter": "python",
   "pygments_lexer": "ipython3",
   "version": "3.8.6"
  }
 },
 "nbformat": 4,
 "nbformat_minor": 4
}
