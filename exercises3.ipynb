{
 "cells": [
  {
   "cell_type": "markdown",
   "metadata": {
    "deletable": false,
    "editable": false
   },
   "source": [
    "## Analytic Programming\n",
    "\n",
    "> Homework 3: Analytic Programming, NTU, Spring, 2021.\n",
    "\n",
    "Kuo, Yao-Jen <yaojenkuo@ntu.edu.tw> from [DATAINPOINT](https://www.datainpoint.com)"
   ]
  },
  {
   "cell_type": "code",
   "execution_count": 83,
   "metadata": {
    "deletable": false,
    "editable": false
   },
   "outputs": [],
   "source": [
    "from functools import reduce\n",
    "from operator import add\n",
    "from operator import mul\n",
    "import json\n",
    "import unittest"
   ]
  },
  {
   "cell_type": "markdown",
   "metadata": {},
   "source": [
    "## Define a function named `filter_positives_from_args(*args)` which takes flexible integers and returns positive ones in a list.\n",
    "\n",
    "- Expected inputs：`*args`\n",
    "- Expected outputs：a list"
   ]
  },
  {
   "cell_type": "code",
   "execution_count": 84,
   "metadata": {},
   "outputs": [],
   "source": [
    "def filter_positives_from_args(*args):\n",
    "    \"\"\"\n",
    "    >>> filter_positives_from_args(-3, -2, -1, 0, 1, 2, 3)\n",
    "    [0, 1, 2, 3]\n",
    "    >>> filter_positives_from_args(-3, -2, -1, 0, 1, 2, 3, '4', '5')\n",
    "    [0, 1, 2, 3]\n",
    "    >>> filter_positives_from_args(-3, -2, -1, False, True, 2, 3, '4', '5')\n",
    "    [False, True, 2, 3]\n",
    "    \"\"\"\n",
    "    ### BEGIN SOLUTION\n",
    "    results = []\n",
    "    for i in range(len(args)):\n",
    "        if type(args[i]) != str and args[i] >= 0:\n",
    "            results.append(args[i])\n",
    "    return results\n",
    "    ### END SOLUTION"
   ]
  },
  {
   "cell_type": "markdown",
   "metadata": {},
   "source": [
    "## Define a function named `map_squared_on_args(*args)` which takes flexible integers and returns the a `map` object which is able to generate squared numbers among `*args`.\n",
    "\n",
    "- Expected inputs： `*args`\n",
    "- Expected outputs：a `map` object"
   ]
  },
  {
   "cell_type": "code",
   "execution_count": 85,
   "metadata": {},
   "outputs": [],
   "source": [
    "def map_squared_on_args(*args):\n",
    "    \"\"\"\n",
    "    >>> res = map_squared_on_args(0, 1, 2, 3)\n",
    "    >>> type(res)\n",
    "    map\n",
    "    >>> list(res)\n",
    "    [0, 1, 4, 9]\n",
    "    >>> res = map_squared_on_args(-3, -2, -1)\n",
    "    >>> type(res)\n",
    "    map\n",
    "    >>> tuple(res)\n",
    "    (9, 4, 1)\n",
    "    \"\"\"\n",
    "    ### BEGIN SOLUTION\n",
    "    def square(n):\n",
    "        return n**2\n",
    "    return map(square, args)\n",
    "    ### END SOLUTION"
   ]
  },
  {
   "cell_type": "markdown",
   "metadata": {},
   "source": [
    "## Define a function named `filter_even_numbers_from_args(*args)` which takes flexible integers and returns the a `filter` object which is able to generate even numbers among `*args`.\n",
    "\n",
    "- Expected inputs： `*args`\n",
    "- Expected outputs：a `filter` object"
   ]
  },
  {
   "cell_type": "code",
   "execution_count": 86,
   "metadata": {},
   "outputs": [],
   "source": [
    "def filter_even_numbers_from_args(*args):\n",
    "    \"\"\"\n",
    "    >>> res = filter_even_numbers_from_args(0, 1, 2, 3)\n",
    "    >>> type(res)\n",
    "    filter\n",
    "    >>> list(res)\n",
    "    [0, 2]\n",
    "    res = filter_even_numbers_from_args(0, 1, 2, 3, 4, 5, 6)\n",
    "    >>> type(res)\n",
    "    filter\n",
    "    >>> tuple(res)\n",
    "    (0, 2, 4, 6)\n",
    "    \"\"\"\n",
    "    ### BEGIN SOLUTION\n",
    "    def is_even(n):\n",
    "        return n%2 == 0\n",
    "    return filter(is_even, args)\n",
    "    ### END SOLUTION"
   ]
  },
  {
   "cell_type": "markdown",
   "metadata": {},
   "source": [
    "## Define a class named `Aggregator` with a method `summation`.\n",
    "\n",
    "- Expected inputs: a list\n",
    "- Expected outputs：a class `Aggregator`"
   ]
  },
  {
   "cell_type": "code",
   "execution_count": 87,
   "metadata": {},
   "outputs": [],
   "source": [
    "class Aggregator:\n",
    "    \"\"\"\n",
    "    >>> aggregator = Aggregator()\n",
    "    >>> aggregator.summation([5, 5, 6, 6])\n",
    "    22\n",
    "    >>> aggregator.summation([7, 7, 8, 8])\n",
    "    30\n",
    "    \"\"\"\n",
    "    ### BEGIN SOLUTION\n",
    "    def summation(self, args):\n",
    "        return sum(args)\n",
    "    ### END SOLUTION"
   ]
  },
  {
   "cell_type": "markdown",
   "metadata": {},
   "source": [
    "## Define a class named `NewAggregator` inherited from `Aggregator` with two methods `summation` and `product`.\n",
    "\n",
    "- Expected inputs: a list\n",
    "- Expected outputs：a class `Aggregator`"
   ]
  },
  {
   "cell_type": "code",
   "execution_count": 88,
   "metadata": {},
   "outputs": [],
   "source": [
    "class NewAggregator(Aggregator):\n",
    "    \"\"\"\n",
    "    >>> new_aggregator = NewAggregator()\n",
    "    >>> new_aggregator.summation([5, 5, 6, 6])\n",
    "    22\n",
    "    >>> new_aggregator.summation([7, 7, 8, 8])\n",
    "    30\n",
    "    >>> new_aggregator.product([5, 5, 6, 6])\n",
    "    900\n",
    "    >>> new_aggregator.product([7, 7, 8, 8])\n",
    "    3136\n",
    "    \"\"\"\n",
    "    ### BEGIN SOLUTION\n",
    "    def summation(self, args):\n",
    "        return sum(args)\n",
    "    def product(self, args):\n",
    "        prod = 1\n",
    "        for i in range(len(args)):\n",
    "            prod *= args[i]\n",
    "        return prod\n",
    "    ### END SOLUTION"
   ]
  },
  {
   "cell_type": "markdown",
   "metadata": {},
   "source": [
    "## Define a function named `load_teams_json` that is able to load `teams.json` in our working directory and returns a `dict`.\n",
    "\n",
    "PS You may reach out to standard library `json` <https://docs.python.org/3/library/json.html> for help.(Actually we've imported for you in the beginning!)\n",
    "\n",
    "- Expected inputs: a file `teams.json`\n",
    "- Expected outputs：a dict"
   ]
  },
  {
   "cell_type": "code",
   "execution_count": 89,
   "metadata": {},
   "outputs": [],
   "source": [
    "def load_teams_json(json_file):\n",
    "    \"\"\"\n",
    "    >>> teams = load_teams_json('teams.json')\n",
    "    >>> type(teams)\n",
    "    dict\n",
    "    >>> len(teams)\n",
    "    2\n",
    "    >>> teams.keys()\n",
    "    dict_keys(['_internal', 'league'])\n",
    "    \"\"\"\n",
    "    ### BEGIN SOLUTION\n",
    "    with open(json_file, 'r', encoding='utf-8') as f:\n",
    "        output = json.load(f)\n",
    "    return output\n",
    "    ### END SOLUTION"
   ]
  },
  {
   "cell_type": "markdown",
   "metadata": {},
   "source": [
    "## Define a function named `find_all_start_teams` that is able to extract 2 All-Star teams: Team Durant and Team LeBron.\n",
    "\n",
    "- Expected inputs: a file `teams.json`\n",
    "- Expected outputs：a list"
   ]
  },
  {
   "cell_type": "code",
   "execution_count": 90,
   "metadata": {},
   "outputs": [],
   "source": [
    "def find_all_start_teams(json_file):\n",
    "    \"\"\"\n",
    "    >>> all_start_teams = find_all_start_teams('teams.json')\n",
    "    >>> type(all_start_teams)\n",
    "    list\n",
    "    >>> len(all_start_teams)\n",
    "    2\n",
    "    >>> all_start_teams[0]\n",
    "    {'isNBAFranchise': False,\n",
    "     'isAllStar': True,\n",
    "     'city': 'Team',\n",
    "     'altCityName': 'Team',\n",
    "     'fullName': 'Team Team Durant',\n",
    "     'tricode': 'DRT',\n",
    "     'teamId': '1610616833',\n",
    "     'nickname': 'Team Durant',\n",
    "     'urlName': 'team_durant',\n",
    "     'teamShortName': 'Team Durant',\n",
    "     'confName': 'East',\n",
    "     'divName': 'East'}\n",
    "    \"\"\"\n",
    "    ### BEGIN SOLUTION\n",
    "    with open(json_file, 'r', encoding='utf-8') as f:\n",
    "        data = json.load(f)\n",
    "        \n",
    "    results = []\n",
    "    for i in range(len(data['league']['standard'])):\n",
    "        nickname = data['league']['standard'][i]['nickname']\n",
    "        if nickname == 'Team Durant' or nickname == 'Team LeBron':\n",
    "            results.append(data['league']['standard'][i])\n",
    "    return results\n",
    "    ### END SOLUTION"
   ]
  },
  {
   "cell_type": "code",
   "execution_count": 91,
   "metadata": {},
   "outputs": [
    {
     "data": {
      "text/plain": [
       "[{'isNBAFranchise': False,\n",
       "  'isAllStar': True,\n",
       "  'city': 'Team',\n",
       "  'altCityName': 'Team',\n",
       "  'fullName': 'Team Team Durant',\n",
       "  'tricode': 'DRT',\n",
       "  'teamId': '1610616833',\n",
       "  'nickname': 'Team Durant',\n",
       "  'urlName': 'team_durant',\n",
       "  'teamShortName': 'Team Durant',\n",
       "  'confName': 'East',\n",
       "  'divName': 'East'},\n",
       " {'isNBAFranchise': False,\n",
       "  'isAllStar': True,\n",
       "  'city': 'Team',\n",
       "  'altCityName': 'Team',\n",
       "  'fullName': 'Team LeBron',\n",
       "  'tricode': 'LBN',\n",
       "  'teamId': '1610616834',\n",
       "  'nickname': 'Team LeBron',\n",
       "  'urlName': 'team_lebron',\n",
       "  'teamShortName': 'Team LeBron',\n",
       "  'confName': 'West',\n",
       "  'divName': 'West'}]"
      ]
     },
     "execution_count": 91,
     "metadata": {},
     "output_type": "execute_result"
    }
   ],
   "source": [
    "find_all_start_teams('teams.json')"
   ]
  },
  {
   "cell_type": "markdown",
   "metadata": {},
   "source": [
    "## Define a function named `find_team_full_names` that is able to extract the full names of 30 NBA teams.\n",
    "\n",
    "PS Exclude 2 All-Star teams: Team Durant and Team LeBron.\n",
    "\n",
    "- Expected inputs: a file `teams.json`\n",
    "- Expected outputs：a list"
   ]
  },
  {
   "cell_type": "code",
   "execution_count": 92,
   "metadata": {},
   "outputs": [],
   "source": [
    "def find_team_full_names(json_file):\n",
    "    \"\"\"\n",
    "    >>> team_full_names = find_team_full_names('teams.json')\n",
    "    >>> type(team_full_names)\n",
    "    list\n",
    "    >>> len(team_full_names)\n",
    "    30\n",
    "    >>> team_full_names[:5]\n",
    "    ['Atlanta Hawks',\n",
    "     'Boston Celtics',\n",
    "     'Brooklyn Nets',\n",
    "     'Charlotte Hornets',\n",
    "     'Chicago Bulls']\n",
    "    >>> team_full_names[-5:]\n",
    "    ['Sacramento Kings',\n",
    "     'San Antonio Spurs',\n",
    "     'Toronto Raptors',\n",
    "     'Utah Jazz',\n",
    "     'Washington Wizards']\n",
    "    \"\"\"\n",
    "    ### BEGIN SOLUTION\n",
    "    with open(json_file, 'r', encoding='utf-8') as f:\n",
    "        data = json.load(f)\n",
    "    \n",
    "    fullnames = []\n",
    "    for i in range(len(data['league']['standard'])):\n",
    "        if data['league']['standard'][i] not in find_all_start_teams(json_file):\n",
    "            fn = data['league']['standard'][i]['fullName']\n",
    "            fullnames.append(fn)\n",
    "    return fullnames\n",
    "    ### END SOLUTION"
   ]
  },
  {
   "cell_type": "markdown",
   "metadata": {},
   "source": [
    "## Define a function named `find_team_tricodes` that is able to extract the tricode of 30 NBA teams.\n",
    "\n",
    "PS Exclude 2 All-Star teams: Team Durant and Team LeBron.\n",
    "\n",
    "- Expected inputs: a file `teams.json`\n",
    "- Expected outputs：a list"
   ]
  },
  {
   "cell_type": "code",
   "execution_count": 93,
   "metadata": {},
   "outputs": [],
   "source": [
    "def find_team_tricodes(json_file):\n",
    "    \"\"\"\n",
    "    >>> team_tricodes = find_team_tricodes('teams.json')\n",
    "    >>> type(team_tricodes)\n",
    "    list\n",
    "    >>> len(team_tricodes)\n",
    "    30\n",
    "    >>> team_tricodes[:5]\n",
    "    ['ATL', 'BOS', 'BKN', 'CHA', 'CHI']\n",
    "    >>> team_tricodes[-5:]\n",
    "    ['SAC', 'SAS', 'TOR', 'UTA', 'WAS']\n",
    "    \"\"\"\n",
    "    ### BEGIN SOLUTION\n",
    "    with open(json_file, 'r', encoding='utf-8') as f:\n",
    "        data = json.load(f)\n",
    "    \n",
    "    tricodes = []\n",
    "    for i in range(len(data['league']['standard'])):\n",
    "        if data['league']['standard'][i] not in find_all_start_teams(json_file):\n",
    "            tcd = data['league']['standard'][i]['tricode']\n",
    "            tricodes.append(tcd)\n",
    "    return tricodes\n",
    "    ### END SOLUTION"
   ]
  },
  {
   "cell_type": "markdown",
   "metadata": {},
   "source": [
    "## Define a function named `find_teams_with_special_tricodes` that is able to find teams whose tricode is not the first 3 letters of their full name in upper-cased. e.g. teams like Brooklyn Nets(BKN) and San Antonio Spurs(SAS) are what we are looking for. Teams like Boston Celtics(BOS) and LA Clippers(LAC) are NOT what we are looking for.\n",
    "\n",
    "PS Exclude 2 All-Star teams: Team Durant and Team LeBron.\n",
    "\n",
    "- Expected inputs: a file `teams.json`\n",
    "- Expected outputs：a dict"
   ]
  },
  {
   "cell_type": "code",
   "execution_count": 103,
   "metadata": {},
   "outputs": [],
   "source": [
    "def find_teams_with_special_tricodes(json_file):\n",
    "    \"\"\"\n",
    "    >>> teams_with_special_tricodes = find_teams_with_special_tricodes('teams.json')\n",
    "    >>> type(teams_with_special_tricodes)\n",
    "    dict\n",
    "    >>> len(teams_with_special_tricodes)\n",
    "    8\n",
    "    >>> teams_with_special_tricodes['BKN']\n",
    "    'Brooklyn Nets'\n",
    "    >>> teams_with_special_tricodes['SAS']\n",
    "    'San Antonio Spurs'\n",
    "    \"\"\"\n",
    "    ### BEGIN SOLUTION\n",
    "    with open(json_file, 'r', encoding='utf-8') as f:\n",
    "        data = json.load(f)\n",
    "    \n",
    "    sp_tricodes = dict()\n",
    "    for i in range(len(data['league']['standard'])):\n",
    "        if data['league']['standard'][i] not in find_all_start_teams(json_file):\n",
    "            tcd = data['league']['standard'][i]['tricode']\n",
    "            fn = data['league']['standard'][i]['fullName']\n",
    "            if (fn.replace(' ','')).upper()[:3] != tcd:\n",
    "                sp_tricodes[tcd] = fn\n",
    "    return sp_tricodes\n",
    "    ### END SOLUTION"
   ]
  },
  {
   "cell_type": "markdown",
   "metadata": {
    "deletable": false,
    "editable": false
   },
   "source": [
    "## Run tests!\n",
    "\n",
    "Kernel -> Restart & Run All. -> Restart And Run All Cells."
   ]
  },
  {
   "cell_type": "code",
   "execution_count": 104,
   "metadata": {
    "deletable": false,
    "editable": false
   },
   "outputs": [
    {
     "name": "stderr",
     "output_type": "stream",
     "text": [
      "test_00_filter_positives_from_args (__main__.TestHomeworkThree) ... ok\n",
      "test_01_map_squared_on_args (__main__.TestHomeworkThree) ... ok\n",
      "test_02_filter_even_numbers_from_args (__main__.TestHomeworkThree) ... ok\n",
      "test_03_aggregator (__main__.TestHomeworkThree) ... ok\n",
      "test_04_new_aggregator (__main__.TestHomeworkThree) ... ok\n",
      "test_05_load_teams_json (__main__.TestHomeworkThree) ... ok\n",
      "test_06_find_all_start_teams (__main__.TestHomeworkThree) ... ok\n",
      "test_07_find_team_full_names (__main__.TestHomeworkThree) ... ok\n",
      "test_08_find_team_tricodes (__main__.TestHomeworkThree) ... ok\n",
      "test_09_find_teams_with_special_tricodes (__main__.TestHomeworkThree) ... ok\n",
      "\n",
      "----------------------------------------------------------------------\n",
      "Ran 10 tests in 0.051s\n",
      "\n",
      "OK\n"
     ]
    }
   ],
   "source": [
    "import unittest\n",
    "\n",
    "class TestHomeworkThree(unittest.TestCase):\n",
    "    def test_00_filter_positives_from_args(self):\n",
    "        self.assertEqual(filter_positives_from_args(-3, -2, -1, 0, 1, 2, 3), [0, 1, 2, 3])\n",
    "        self.assertEqual(filter_positives_from_args(-3, -2, -1, 0, 1, 2, 3, '4', '5'), [0, 1, 2, 3])\n",
    "        self.assertEqual(filter_positives_from_args(-3, -2, -1, False, True, 2, 3, '4', '5'), [False, True, 2, 3])\n",
    "        self.assertEqual(filter_positives_from_args(-3, -2, -1, 'False', 'True', 2, 3, '4', '5'), [2, 3])\n",
    "        self.assertEqual(filter_positives_from_args(-3, -2, -1, 0, 1, False, True, 2, 3), [0, 1, False, True, 2, 3])\n",
    "    def test_01_map_squared_on_args(self):\n",
    "        res = map_squared_on_args(0, 1, 2, 3)\n",
    "        self.assertIsInstance(res, map)\n",
    "        self.assertEqual(list(res), [0, 1, 4, 9])\n",
    "        res = map_squared_on_args(-3, -2, -1)\n",
    "        self.assertIsInstance(res, map)\n",
    "        self.assertEqual(tuple(res), (9, 4, 1))\n",
    "        res = map_squared_on_args(-3, -2, -1, 0, 1, 2, 3)\n",
    "        self.assertIsInstance(res, map)\n",
    "        self.assertEqual(list(res), [9, 4, 1, 0, 1, 4, 9])\n",
    "    def test_02_filter_even_numbers_from_args(self):\n",
    "        res = filter_even_numbers_from_args(0, 1, 2, 3)\n",
    "        self.assertIsInstance(res, filter)\n",
    "        self.assertEqual(list(res), [0, 2])\n",
    "        res = filter_even_numbers_from_args(0, 1, 2, 3, 4, 5, 6)\n",
    "        self.assertIsInstance(res, filter)\n",
    "        self.assertEqual(tuple(res), (0, 2, 4, 6))\n",
    "    def test_03_aggregator(self):\n",
    "        aggregator = Aggregator()\n",
    "        self.assertIsInstance(aggregator, Aggregator)\n",
    "        self.assertEqual(aggregator.summation([5, 5, 6, 6]), 22)\n",
    "        self.assertEqual(aggregator.summation([7, 7, 8, 8]), 30)\n",
    "        self.assertEqual(aggregator.summation([-5, 5, -6, 6]), 0)\n",
    "        self.assertEqual(aggregator.summation([-7, 7, -8, 8]), 0)\n",
    "    def test_04_new_aggregator(self):\n",
    "        new_aggregator = NewAggregator()\n",
    "        self.assertIsInstance(new_aggregator, NewAggregator)\n",
    "        self.assertEqual(new_aggregator.summation([5, 5, 6, 6]), 22)\n",
    "        self.assertEqual(new_aggregator.summation([7, 7, 8, 8]), 30)\n",
    "        self.assertEqual(new_aggregator.summation([-5, 5, -6, 6]), 0)\n",
    "        self.assertEqual(new_aggregator.summation([-7, 7, -8, 8]), 0)\n",
    "        self.assertEqual(new_aggregator.product([5, 5, 6, 6]), 900)\n",
    "        self.assertEqual(new_aggregator.product([7, 7, 8, 8]), 3136)\n",
    "        self.assertEqual(new_aggregator.product([-5, 5, -6, 6]), 900)\n",
    "        self.assertEqual(new_aggregator.product([-7, 7, -8, 8]), 3136)\n",
    "    def test_05_load_teams_json(self):\n",
    "        teams = load_teams_json('teams.json')\n",
    "        self.assertIsInstance(teams, dict)\n",
    "        self.assertEqual(len(teams), 2)\n",
    "        keys = set(teams.keys())\n",
    "        self.assertTrue('_internal' in keys)\n",
    "        self.assertTrue('league' in keys)\n",
    "    def test_06_find_all_start_teams(self):\n",
    "        all_start_teams = find_all_start_teams('teams.json')\n",
    "        self.assertIsInstance(all_start_teams, list)\n",
    "        self.assertEqual(len(all_start_teams), 2)\n",
    "        self.assertEqual(len(all_start_teams[0]), 12)\n",
    "        self.assertEqual(len(all_start_teams[1]), 12)\n",
    "        self.assertEqual(all_start_teams[0]['teamShortName'], 'Team Durant')\n",
    "        self.assertEqual(all_start_teams[1]['teamShortName'], 'Team LeBron')\n",
    "    def test_07_find_team_full_names(self):\n",
    "        team_full_names = find_team_full_names('teams.json')\n",
    "        self.assertIsInstance(team_full_names, list)\n",
    "        self.assertEqual(len(team_full_names), 30)\n",
    "        self.assertTrue('Atlanta Hawks' in team_full_names)\n",
    "        self.assertTrue('Boston Celtics' in team_full_names)\n",
    "        self.assertTrue('Brooklyn Nets' in team_full_names)\n",
    "        self.assertTrue('Toronto Raptors' in team_full_names)\n",
    "        self.assertTrue('Utah Jazz' in team_full_names)\n",
    "        self.assertTrue('Washington Wizards' in team_full_names)\n",
    "    def test_08_find_team_tricodes(self):\n",
    "        team_tricodes = find_team_tricodes('teams.json')\n",
    "        self.assertIsInstance(team_tricodes, list)\n",
    "        self.assertEqual(len(team_tricodes), 30)\n",
    "        self.assertTrue('ATL' in team_tricodes)\n",
    "        self.assertTrue('BOS' in team_tricodes)\n",
    "        self.assertTrue('BKN' in team_tricodes)\n",
    "        self.assertTrue('TOR' in team_tricodes)\n",
    "        self.assertTrue('UTA' in team_tricodes)\n",
    "        self.assertTrue('WAS' in team_tricodes)\n",
    "    def test_09_find_teams_with_special_tricodes(self):\n",
    "        teams_with_special_tricodes = find_teams_with_special_tricodes('teams.json')\n",
    "        self.assertIsInstance(teams_with_special_tricodes, dict)\n",
    "        self.assertEqual(len(teams_with_special_tricodes), 8)\n",
    "        keys = teams_with_special_tricodes.keys()\n",
    "        self.assertTrue('BKN' in keys)\n",
    "        self.assertTrue('SAS' in keys)\n",
    "        self.assertTrue('LAL' in keys)\n",
    "        self.assertTrue('PHX' in keys)\n",
    "\n",
    "suite = unittest.TestLoader().loadTestsFromTestCase(TestHomeworkThree)\n",
    "runner = unittest.TextTestRunner(verbosity=2)\n",
    "test_results = runner.run(suite)\n",
    "number_of_failures = len(test_results.failures)\n",
    "number_of_errors = len(test_results.errors)\n",
    "number_of_test_runs = test_results.testsRun\n",
    "number_of_successes = number_of_test_runs - (number_of_failures + number_of_errors)"
   ]
  },
  {
   "cell_type": "code",
   "execution_count": 105,
   "metadata": {
    "deletable": false,
    "editable": false
   },
   "outputs": [
    {
     "name": "stdout",
     "output_type": "stream",
     "text": [
      "You've got 10 successes among 10 questions.\n"
     ]
    }
   ],
   "source": [
    "print(\"You've got {} successes among {} questions.\".format(number_of_successes, number_of_test_runs))"
   ]
  },
  {
   "cell_type": "code",
   "execution_count": null,
   "metadata": {},
   "outputs": [],
   "source": []
  }
 ],
 "metadata": {
  "kernelspec": {
   "display_name": "Python 3",
   "language": "python",
   "name": "python3"
  },
  "language_info": {
   "codemirror_mode": {
    "name": "ipython",
    "version": 3
   },
   "file_extension": ".py",
   "mimetype": "text/x-python",
   "name": "python",
   "nbconvert_exporter": "python",
   "pygments_lexer": "ipython3",
   "version": "3.7.4"
  }
 },
 "nbformat": 4,
 "nbformat_minor": 4
}
