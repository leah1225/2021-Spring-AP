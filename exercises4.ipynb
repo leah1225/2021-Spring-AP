{
 "cells": [
  {
   "cell_type": "markdown",
   "metadata": {
    "deletable": false,
    "editable": false
   },
   "source": [
    "# Analytic Programming\n",
    "\n",
    "> Homework 4: Analytic Programming, NTU, Spring, 2021.\n",
    "\n",
    "Kuo, Yao-Jen <yaojenkuo@ntu.edu.tw> from [DATAINPOINT](https://www.datainpoint.com)"
   ]
  },
  {
   "cell_type": "markdown",
   "metadata": {
    "deletable": false,
    "editable": false
   },
   "source": [
    "## Instructions\n",
    "\n",
    "- We've imported necessary modules/libraries at the beginning of each exercise.\n",
    "- We've put necessary files(if any) in the working directory of each exercise.\n",
    "- We've defined the names of functions/inputs/arguments for you.\n",
    "- Write down your solution between the comments `### BEGIN SOLUTION` and `### END SOLUTION`.\n",
    "- Running tests to see if your solutions are right: Kernel -> Restart & Run All -> Restart and Run All Cells.\n",
    "- You can run tests after each question or after finishing all questions.\n",
    "- REMEMBER to upload your `.ipynb` file to [CEIBA](https://ceiba.ntu.edu.tw/) before 2021-05-07 20:59:59 when you are done running tests."
   ]
  },
  {
   "cell_type": "code",
   "execution_count": 1,
   "metadata": {
    "deletable": false,
    "editable": false
   },
   "outputs": [],
   "source": [
    "import numpy as np\n",
    "import unittest"
   ]
  },
  {
   "cell_type": "markdown",
   "metadata": {},
   "source": [
    "## 00. Define a function named `create_nine_one_array` that is able to generate a `(9, 1)` array as specified.\n",
    "\n",
    "- Expected inputs: None.\n",
    "- Expected outputs: a (9, 1) array.\n",
    "\n",
    "```\n",
    "[[1]\n",
    " [2]\n",
    " [3]\n",
    " [4]\n",
    " [5]\n",
    " [6]\n",
    " [7]\n",
    " [8]\n",
    " [9]]\n",
    "```"
   ]
  },
  {
   "cell_type": "code",
   "execution_count": 12,
   "metadata": {},
   "outputs": [],
   "source": [
    "def create_nine_one_array():\n",
    "    \"\"\"\n",
    "    >>> nine_one_array = create_nine_one_array()\n",
    "    >>> nine_one_array.shape\n",
    "    (9, 1)\n",
    "    >>> nine_one_array[0, 0]\n",
    "    1\n",
    "    >>> nine_one_array[-1, 0]\n",
    "    9\n",
    "    \"\"\"\n",
    "    ### BEGIN SOLUTION\n",
    "    arr = np.arange(1,10)\n",
    "    arr = arr.reshape(9,1)\n",
    "    return arr\n",
    "    ### END SOLUTION"
   ]
  },
  {
   "cell_type": "markdown",
   "metadata": {},
   "source": [
    "## 01. Define a function named `create_one_nine_array` that is able to generate a `(1, 9)` array as specified.\n",
    "\n",
    "- Expected inputs: None.\n",
    "- Expected outputs: a (1, 9) array.\n",
    "\n",
    "```\n",
    "[[1 2 3 4 5 6 7 8 9]]\n",
    "```"
   ]
  },
  {
   "cell_type": "code",
   "execution_count": 124,
   "metadata": {},
   "outputs": [],
   "source": [
    "def create_one_nine_array():\n",
    "    \"\"\"\n",
    "    >>> one_nine_array = create_one_nine_array()\n",
    "    >>> one_nine_array.shape\n",
    "    (1, 9)\n",
    "    >>> one_nine_array[0, 0]\n",
    "    1\n",
    "    >>> one_nine_array[0, -1]\n",
    "    9\n",
    "    \"\"\"\n",
    "    ### BEGIN SOLUTION\n",
    "    arr = np.array([np.arange(1,10)])\n",
    "    return arr\n",
    "    ### END SOLUTION"
   ]
  },
  {
   "cell_type": "markdown",
   "metadata": {},
   "source": [
    "## 02. Define a function named `create_nine_nine_array` that is able to generate a `(9, 9)` array as specified.\n",
    "\n",
    "- Expected inputs: None.\n",
    "- Expected outputs: a (9, 9) array.\n",
    "\n",
    "```\n",
    "[[ 1  2  3  4  5  6  7  8  9]\n",
    " [ 2  4  6  8 10 12 14 16 18]\n",
    " [ 3  6  9 12 15 18 21 24 27]\n",
    " [ 4  8 12 16 20 24 28 32 36]\n",
    " [ 5 10 15 20 25 30 35 40 45]\n",
    " [ 6 12 18 24 30 36 42 48 54]\n",
    " [ 7 14 21 28 35 42 49 56 63]\n",
    " [ 8 16 24 32 40 48 56 64 72]\n",
    " [ 9 18 27 36 45 54 63 72 81]]\n",
    "```"
   ]
  },
  {
   "cell_type": "code",
   "execution_count": 70,
   "metadata": {},
   "outputs": [],
   "source": [
    "def create_nine_nine_array():\n",
    "    \"\"\"\n",
    "    >>> nine_nine_array = create_nine_nine_array()\n",
    "    >>> nine_nine_array.shape\n",
    "    (9, 9)\n",
    "    >>> nine_nine_array[0, 0]\n",
    "    1\n",
    "    >>> nine_nine_array[1, 1]\n",
    "    4\n",
    "    >>> nine_nine_array[7, 7]\n",
    "    64\n",
    "    >>> nine_nine_array[8, 8]\n",
    "    81\n",
    "    \"\"\"\n",
    "    ### BEGIN SOLUTION\n",
    "    num = [i*j for i in range(1,10) for j in range(1,10)]\n",
    "    arr = np.array(num).reshape(9,9)\n",
    "    return arr\n",
    "    ### END SOLUTION"
   ]
  },
  {
   "cell_type": "markdown",
   "metadata": {},
   "source": [
    "## 03. Define a function named `filter_evens` that is able to extract the even numbers from a given array.\n",
    "\n",
    "- Expected inputs: an array.\n",
    "- Expected outputs: an array."
   ]
  },
  {
   "cell_type": "code",
   "execution_count": 72,
   "metadata": {},
   "outputs": [],
   "source": [
    "def filter_evens(x):\n",
    "    \"\"\"\n",
    "    >>> filter_evens(np.array([5, 5, 6, 6]))\n",
    "    array([6, 6])\n",
    "    >>> filter_evens(np.array([1, 2, 3, 4]))\n",
    "    array([2, 4])\n",
    "    >>> filter_evens(np.array([0, 1, 2, 3]))\n",
    "    array([0, 2])\n",
    "    \"\"\"\n",
    "    ### BEGIN SOLUTION\n",
    "    arr = np.array(x)\n",
    "    is_even = arr % 2 == 0\n",
    "    return arr[is_even]\n",
    "    ### END SOLUTION"
   ]
  },
  {
   "cell_type": "markdown",
   "metadata": {},
   "source": [
    "## 04. Define a function named `filter_evens_then_product` that is able to product the even numbers from a given array.\n",
    "\n",
    "- Expected inputs: an array.\n",
    "- Expected outputs: a numeric."
   ]
  },
  {
   "cell_type": "code",
   "execution_count": 80,
   "metadata": {},
   "outputs": [],
   "source": [
    "def filter_evens_then_product(x):\n",
    "    \"\"\"\n",
    "    >>> filter_evens_then_product(np.array([5, 5, 6, 6]))\n",
    "    36\n",
    "    >>> filter_evens_then_product(np.array([1, 2, 3, 4]))\n",
    "    8\n",
    "    >>> filter_evens_then_product(np.array([0, 1, 2, 3]))\n",
    "    0\n",
    "    \"\"\"\n",
    "    ### BEGIN SOLUTION\n",
    "    arr = np.array(x)\n",
    "    is_even = arr % 2 == 0\n",
    "    return np.prod(arr[is_even])\n",
    "    ### END SOLUTION"
   ]
  },
  {
   "cell_type": "markdown",
   "metadata": {},
   "source": [
    "## 05. Define a function named `find_divisors` that is able to find the divisors of a given integer.\n",
    "\n",
    "- Expected inputs: an integer.\n",
    "- Expected outputs: an array."
   ]
  },
  {
   "cell_type": "code",
   "execution_count": 85,
   "metadata": {},
   "outputs": [],
   "source": [
    "def find_divisors(x):\n",
    "    \"\"\"\n",
    "    >>> find_divisors(1)\n",
    "    array([1])\n",
    "    >>> find_divisors(2)\n",
    "    array([1, 2])\n",
    "    >>> find_divisors(3)\n",
    "    array([1, 3])\n",
    "    >>> find_divisors(4)\n",
    "    array([1, 2, 4])\n",
    "    >>> find_divisors(5)\n",
    "    array([1, 5])\n",
    "    \"\"\"\n",
    "    ### BEGIN SOLUTION\n",
    "    divisiors = np.arange(1, x+1)\n",
    "    is_divisor = x % divisiors == 0\n",
    "    return divisiors[is_divisor]\n",
    "    ### END SOLUTION"
   ]
  },
  {
   "cell_type": "markdown",
   "metadata": {},
   "source": [
    "## 06. Define a function named `var` that is able to calculate the variance of a given array.\n",
    "\n",
    "PS You may refer to the definition of variance: <https://en.wikipedia.org/wiki/Variance>\n",
    "\n",
    "\\begin{equation}\n",
    "Var(X) = \\frac{1}{n}\\sum_{i=1}^{n}(x_i - \\mu)^2\n",
    "\\end{equation}\n",
    "\n",
    "- Expected inputs: an array.\n",
    "- Expected outputs: a numeric."
   ]
  },
  {
   "cell_type": "code",
   "execution_count": 102,
   "metadata": {},
   "outputs": [],
   "source": [
    "def var(X):\n",
    "    \"\"\"\n",
    "    >>> var(np.array([1, 1, 1, 1]))\n",
    "    0.0\n",
    "    >>> var(np.array([5, 5, 6, 6]))\n",
    "    0.25\n",
    "    >>> var(np.array([5, -5, 6, -6]))\n",
    "    30.5\n",
    "    >>> var(np.array([2, 4, 8, 16]))\n",
    "    28.75\n",
    "    \"\"\"\n",
    "    ### BEGIN SOLUTION\n",
    "    num = np.array(X)\n",
    "    return np.square(num - np.mean(num)).sum()/num.shape[0]\n",
    "    ### END SOLUTION"
   ]
  },
  {
   "cell_type": "markdown",
   "metadata": {},
   "source": [
    "## 07. Define a function named `cov` that is able to calculate the covariance given 2 same-length arrays.\n",
    "\n",
    "PS You may refer to the definition of covariance: <https://en.wikipedia.org/wiki/Covariance>\n",
    "\n",
    "\\begin{equation}\n",
    "cov(X, Y) = \\frac{1}{n}\\sum_{i=1}^{n}(x_i-\\mu_{X})(y_i-\\mu_{Y})\n",
    "\\end{equation}\n",
    "\n",
    "- Expected inputs: 2 arrays.\n",
    "- Expected outputs: a numeric."
   ]
  },
  {
   "cell_type": "code",
   "execution_count": 109,
   "metadata": {},
   "outputs": [],
   "source": [
    "def cov(X, Y):\n",
    "    \"\"\"\n",
    "    >>> X = np.array([1, 1, 1, 1])\n",
    "    >>> Y = np.array([1, 1, 1, 1])\n",
    "    >>> cov(X, Y)\n",
    "    0.0\n",
    "    >>> X = np.array([5, 5, 6, 6])\n",
    "    >>> Y = np.array([5, 5, 6, 6])\n",
    "    >>> cov(X, Y)\n",
    "    0.25\n",
    "    >>> X = np.array([5, 5, 6, 6])\n",
    "    >>> Y = np.array([5, -5, 6, -6])\n",
    "    >>> cov(X, Y)\n",
    "    0.0\n",
    "    \"\"\"\n",
    "    ### BEGIN SOLUTION\n",
    "    return np.sum((X - np.mean(X))*(Y - np.mean(Y)))/X.shape[0]\n",
    "    ### END SOLUTION"
   ]
  },
  {
   "cell_type": "markdown",
   "metadata": {},
   "source": [
    "## 08. Define a function named `corr` that is able to calculate the correlation coefficient of 2 same-length arrays.\n",
    "\n",
    "PS You may refer to the definition of correlation coefficient: <https://en.wikipedia.org/wiki/Pearson_correlation_coefficient>\n",
    "\n",
    "\\begin{equation}\n",
    "r_{XY} = \\frac{cov(X, Y)}{\\sqrt{cov(X, X)cov(Y, Y)}}\n",
    "\\end{equation}\n",
    "\n",
    "- Expected inputs: 2 arrays.\n",
    "- Expected outputs: a numeric."
   ]
  },
  {
   "cell_type": "code",
   "execution_count": 115,
   "metadata": {},
   "outputs": [],
   "source": [
    "def corr(X, Y):\n",
    "    \"\"\"\n",
    "    >>> X = np.array([1, 2])\n",
    "    >>> Y = np.array([2, 4])\n",
    "    >>> corr(X, Y)\n",
    "    1.0\n",
    "    >>> X = np.array([1, 2])\n",
    "    >>> Y = np.array([-2, -4])\n",
    "    >>> corr(X, Y)\n",
    "    -1.0\n",
    "    >>> X = np.array([1, 2, 3])\n",
    "    >>> Y = np.array([2, 4, 6])\n",
    "    >>> corr(X, Y)\n",
    "    1.0\n",
    "    >>> X = np.array([1, 2, 3])\n",
    "    >>> Y = np.array([-2, -4, -6])\n",
    "    >>> corr(X, Y)\n",
    "    -1.0\n",
    "    \"\"\"\n",
    "    ### BEGIN SOLUTION\n",
    "    return cov(X, Y)/np.sqrt(cov(X, X)*cov(Y, Y))\n",
    "    ### END SOLUTION"
   ]
  },
  {
   "cell_type": "markdown",
   "metadata": {},
   "source": [
    "## 09. Define a function named `mse` that is able to calculate the mean squared error given 2 same-length arrays.\n",
    "\n",
    "PS You may refer to the definition of mean squared error: <https://en.wikipedia.org/wiki/Mean_squared_error>\n",
    "\n",
    "\\begin{equation}\n",
    "MSE = \\frac{1}{n}\\sum_{i=1}^{n}(Y_i - \\hat{Y_{i}})^2\n",
    "\\end{equation}\n",
    "\n",
    "- Expected inputs: 2 arrays.\n",
    "- Expected outputs: a numeric."
   ]
  },
  {
   "cell_type": "code",
   "execution_count": 117,
   "metadata": {},
   "outputs": [],
   "source": [
    "def mse(Y, Y_hat):\n",
    "    \"\"\"\n",
    "    >>> Y = np.array([5, 5, 6, 6])\n",
    "    >>> Y_hat = np.array([5, 5, 6, 6])\n",
    "    >>> mse(Y, Y_hat)\n",
    "    0.0\n",
    "    >>> Y = np.array([5, 5, 6, 6])\n",
    "    >>> Y_hat = np.array([5, -5, 6, -6])\n",
    "    >>> mse(Y, Y_hat)\n",
    "    61.0\n",
    "    >>> Y = np.array([5, 5, 6, 6])\n",
    "    >>> Y_hat = np.array([-5, -5, -6, -6])\n",
    "    >>> mse(Y, Y_hat)\n",
    "    122.0\n",
    "    \"\"\"\n",
    "    ### BEGIN SOLUTION\n",
    "    return np.square(Y - Y_hat).sum()/Y.shape[0]\n",
    "    ### END SOLUTION"
   ]
  },
  {
   "cell_type": "markdown",
   "metadata": {
    "deletable": false,
    "editable": false
   },
   "source": [
    "## Run tests!\n",
    "\n",
    "Kernel -> Restart & Run All. -> Restart And Run All Cells."
   ]
  },
  {
   "cell_type": "code",
   "execution_count": 125,
   "metadata": {
    "deletable": false,
    "editable": false
   },
   "outputs": [
    {
     "name": "stderr",
     "output_type": "stream",
     "text": [
      "test_00_create_nine_one_array (__main__.TestHomeworkFour) ... ok\n",
      "test_01_create_one_nine_array (__main__.TestHomeworkFour) ... ok\n",
      "test_02_create_nine_nine_array (__main__.TestHomeworkFour) ... ok\n",
      "test_03_filter_evens (__main__.TestHomeworkFour) ... ok\n",
      "test_04_filter_evens_then_product (__main__.TestHomeworkFour) ... ok\n",
      "test_05_find_divisors (__main__.TestHomeworkFour) ... ok\n",
      "test_06_var (__main__.TestHomeworkFour) ... ok\n",
      "test_07_cov (__main__.TestHomeworkFour) ... ok\n",
      "test_08_corr (__main__.TestHomeworkFour) ... ok\n",
      "test_09_mse (__main__.TestHomeworkFour) ... ok\n",
      "\n",
      "----------------------------------------------------------------------\n",
      "Ran 10 tests in 0.021s\n",
      "\n",
      "OK\n"
     ]
    }
   ],
   "source": [
    "class TestHomeworkFour(unittest.TestCase):\n",
    "    def test_00_create_nine_one_array(self):\n",
    "        nine_one_array = create_nine_one_array()\n",
    "        self.assertEqual(nine_one_array.shape, (9, 1))\n",
    "        self.assertEqual(nine_one_array[0, 0], 1)\n",
    "        self.assertEqual(nine_one_array[-1, 0], 9)\n",
    "    def test_01_create_one_nine_array(self):\n",
    "        one_nine_array = create_one_nine_array()\n",
    "        self.assertEqual(one_nine_array.shape, (1, 9))\n",
    "        self.assertEqual(one_nine_array[0, 0], 1)\n",
    "        self.assertEqual(one_nine_array[0, -1], 9)\n",
    "    def test_02_create_nine_nine_array(self):\n",
    "        nine_nine_array = create_nine_nine_array()\n",
    "        self.assertEqual(nine_nine_array.shape, (9, 9))\n",
    "        self.assertEqual(nine_nine_array[7, 7], 64)\n",
    "        self.assertEqual(nine_nine_array[7, 8], 72)\n",
    "        self.assertEqual(nine_nine_array[8, 7], 72)\n",
    "        self.assertEqual(nine_nine_array[8, 8], 81)\n",
    "    def test_03_filter_evens(self):\n",
    "        np.testing.assert_equal(filter_evens(np.array([5, 5, 6, 6])), np.array([6, 6]))\n",
    "        np.testing.assert_equal(filter_evens(np.array([1, 2, 3, 4])), np.array([2, 4]))\n",
    "        np.testing.assert_equal(filter_evens(np.array([0, 1, 2, 3])), np.array([0, 2]))\n",
    "    def test_04_filter_evens_then_product(self):\n",
    "        self.assertEqual(filter_evens_then_product(np.array([5, 5, 6, 6])), 36)\n",
    "        self.assertEqual(filter_evens_then_product(np.array([1, 2, 3, 4])), 8)\n",
    "        self.assertEqual(filter_evens_then_product(np.array([0, 1, 2, 3])), 0)\n",
    "    def test_05_find_divisors(self):\n",
    "        np.testing.assert_equal(find_divisors(1), np.array([1]))\n",
    "        np.testing.assert_equal(find_divisors(2), np.array([1, 2]))\n",
    "        np.testing.assert_equal(find_divisors(3), np.array([1, 3]))\n",
    "        np.testing.assert_equal(find_divisors(4), np.array([1, 2, 4]))\n",
    "        np.testing.assert_equal(find_divisors(5), np.array([1, 5]))\n",
    "    def test_06_var(self):\n",
    "        self.assertAlmostEqual(var(np.array([1, 1, 1, 1])), 0.0)\n",
    "        self.assertAlmostEqual(var(np.array([5, 5, 6, 6])), 0.25)\n",
    "        self.assertAlmostEqual(var(np.array([5, -5, 6, -6])), 30.5)\n",
    "        self.assertAlmostEqual(var(np.array([2, 4, 8, 16])), 28.75)\n",
    "    def test_07_cov(self):\n",
    "        X = np.array([1, 1, 1, 1])\n",
    "        Y = np.array([1, 1, 1, 1])\n",
    "        self.assertAlmostEqual(cov(X, Y), 0.0)\n",
    "        X = np.array([5, 5, 6, 6])\n",
    "        Y = np.array([5, 5, 6, 6])\n",
    "        self.assertAlmostEqual(cov(X, Y), 0.25)\n",
    "        X = np.array([5, 5, 6, 6])\n",
    "        Y = np.array([5, -5, 6, -6])\n",
    "        self.assertAlmostEqual(cov(X, Y), 0.0)\n",
    "    def test_08_corr(self):\n",
    "        X = np.array([1, 2])\n",
    "        Y = np.array([2, 4])\n",
    "        self.assertAlmostEqual(corr(X, Y), 1.0)\n",
    "        X = np.array([1, 2])\n",
    "        Y = np.array([-2, -4])\n",
    "        self.assertAlmostEqual(corr(X, Y), -1.0)\n",
    "        X = np.array([1, 2, 3])\n",
    "        Y = np.array([2, 4, 6])\n",
    "        self.assertAlmostEqual(corr(X, Y), 1.0)\n",
    "        X = np.array([1, 2, 3])\n",
    "        Y = np.array([-2, -4, -6])\n",
    "        self.assertAlmostEqual(corr(X, Y), -1.0)\n",
    "    def test_09_mse(self):\n",
    "        Y = np.array([5, 5, 6, 6])\n",
    "        Y_hat = np.array([5, 5, 6, 6])\n",
    "        self.assertAlmostEqual(mse(Y, Y_hat), 0.0)\n",
    "        Y = np.array([5, 5, 6, 6])\n",
    "        Y_hat = np.array([5, -5, 6, -6])\n",
    "        self.assertAlmostEqual(mse(Y, Y_hat), 61.0)\n",
    "        Y = np.array([5, 5, 6, 6])\n",
    "        Y_hat = np.array([-5, -5, -6, -6])\n",
    "        self.assertAlmostEqual(mse(Y, Y_hat), 122.0)\n",
    "\n",
    "suite = unittest.TestLoader().loadTestsFromTestCase(TestHomeworkFour)\n",
    "runner = unittest.TextTestRunner(verbosity=2)\n",
    "test_results = runner.run(suite)\n",
    "number_of_failures = len(test_results.failures)\n",
    "number_of_errors = len(test_results.errors)\n",
    "number_of_test_runs = test_results.testsRun\n",
    "number_of_successes = number_of_test_runs - (number_of_failures + number_of_errors)"
   ]
  },
  {
   "cell_type": "code",
   "execution_count": 126,
   "metadata": {
    "deletable": false,
    "editable": false
   },
   "outputs": [
    {
     "name": "stdout",
     "output_type": "stream",
     "text": [
      "You've got 10 successes among 10 questions.\n"
     ]
    }
   ],
   "source": [
    "print(\"You've got {} successes among {} questions.\".format(number_of_successes, number_of_test_runs))"
   ]
  },
  {
   "cell_type": "code",
   "execution_count": null,
   "metadata": {},
   "outputs": [],
   "source": []
  }
 ],
 "metadata": {
  "kernelspec": {
   "display_name": "Python 3",
   "language": "python",
   "name": "python3"
  },
  "language_info": {
   "codemirror_mode": {
    "name": "ipython",
    "version": 3
   },
   "file_extension": ".py",
   "mimetype": "text/x-python",
   "name": "python",
   "nbconvert_exporter": "python",
   "pygments_lexer": "ipython3",
   "version": "3.8.6"
  }
 },
 "nbformat": 4,
 "nbformat_minor": 4
}
