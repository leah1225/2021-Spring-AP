{
 "cells": [
  {
   "cell_type": "markdown",
   "metadata": {
    "deletable": false,
    "editable": false
   },
   "source": [
    "## Analytic Programming\n",
    "\n",
    "> Homework 2: Analytic Programming, NTU, Spring, 2021.\n",
    "\n",
    "Kuo, Yao-Jen <yaojenkuo@ntu.edu.tw> from [DATAINPOINT](https://www.datainpoint.com)"
   ]
  },
  {
   "cell_type": "markdown",
   "metadata": {},
   "source": [
    "## Define a function named `find_bmi_label(bmi)` which returns the description of BMI according to BMI.\n",
    "\n",
    "https://en.wikipedia.org/wiki/Body_mass_index#/media/File:BMI_chart.svg\n",
    "\n",
    "- Expected inputs：a numeric `bmi`\n",
    "- Expected outputs：a string"
   ]
  },
  {
   "cell_type": "code",
   "execution_count": 1,
   "metadata": {},
   "outputs": [],
   "source": [
    "def find_bmi_label(bmi):\n",
    "    \"\"\"\n",
    "    >>> find_bmi_label(31.51) # Shaquille O'Neal in his prime\n",
    "    'Obese'\n",
    "    >>> find_bmi_label(32.90) # Zion Williamson \n",
    "    'Obese'\n",
    "    >>> find_bmi_label(26.63) # LeBron James\n",
    "    'Overweight'\n",
    "    >>> find_bmi_label(24.71) # Giannis Antetokounmpo\n",
    "    'Normal weight'\n",
    "    >>> find_bmi_label(17.05) # Manute Bol\n",
    "    'Underweight'\n",
    "    \"\"\"\n",
    "    ### BEGIN SOLUTION\n",
    "    if bmi > 30:\n",
    "        return 'Obese'\n",
    "    elif bmi <= 30 and bmi > 25:\n",
    "        return 'Overweight'\n",
    "    elif bmi <= 25 and bmi >= 18.5:\n",
    "        return 'Normal weight'\n",
    "    else:\n",
    "        return 'Underweight'\n",
    "    \n",
    "    ### END SOLUTION"
   ]
  },
  {
   "cell_type": "markdown",
   "metadata": {},
   "source": [
    "## Define a function named `fizz_buzz(x)` which returns 'Fizz' when `x` can be divided by 3, returns 'Buzz' when `x` can be divided by 5, returns 'Fizz Buzz' when `x` can be divided by 15. Otherwise, the function returns `x` itself\n",
    "\n",
    "- Expected inputs：an integer `x`\n",
    "- Expected outputs：an integer or a string"
   ]
  },
  {
   "cell_type": "code",
   "execution_count": 4,
   "metadata": {},
   "outputs": [],
   "source": [
    "def fizz_buzz(x):\n",
    "    \"\"\"\n",
    "    >>> fizz_buzz(3)\n",
    "    'Fizz'\n",
    "    >>> fizz_buzz(5)\n",
    "    'Buzz'\n",
    "    >>> fizz_buzz(15)\n",
    "    'Fizz Buzz'\n",
    "    >>> fizz_buzz(16)\n",
    "    16\n",
    "    \"\"\"\n",
    "    ### BEGIN SOLUTION\n",
    "    if x % 3 == 0:\n",
    "        if x % 5 == 0: # 3*5 = 15\n",
    "            return 'Fizz Buzz'\n",
    "        else:\n",
    "            return 'Fizz' # 3\n",
    "    elif x % 5 == 0: # 5\n",
    "        return 'Buzz'\n",
    "    else:\n",
    "        return x\n",
    "    ### END SOLUTION"
   ]
  },
  {
   "cell_type": "markdown",
   "metadata": {},
   "source": [
    "## Define a function named `check_types(x)` which returns the type of `x` in a string format.\n",
    "\n",
    "PS You may reach out to built-in function `isinstance()`.\n",
    "\n",
    "<https://docs.python.org/3/library/functions.html#isinstance>\n",
    "\n",
    "- Expected inputs：an unknown type of `x`\n",
    "- Expected outputs：a string"
   ]
  },
  {
   "cell_type": "code",
   "execution_count": 13,
   "metadata": {},
   "outputs": [],
   "source": [
    "def check_types(x):\n",
    "    \"\"\"\n",
    "    >>> check_types(1)\n",
    "    'int'\n",
    "    >>> check_types(1.0)\n",
    "    'float'\n",
    "    >>> check_types(True)\n",
    "    'bool'\n",
    "    >>> check_types(False)\n",
    "    'bool'\n",
    "    >>> check_types('5566')\n",
    "    'str'\n",
    "    >>> check_types(None)\n",
    "    'NoneType'\n",
    "    \"\"\"\n",
    "    ### BEGIN SOLUTION\n",
    "    if type(x) == int:\n",
    "        return 'int'\n",
    "    elif type(x) == float:\n",
    "        return 'float'\n",
    "    elif type(x) == bool:\n",
    "        return 'bool'\n",
    "    elif type(x) == str:\n",
    "        return  'str'\n",
    "    else:\n",
    "        return 'NoneType'\n",
    "    ### END SOLUTION"
   ]
  },
  {
   "cell_type": "markdown",
   "metadata": {},
   "source": [
    "## Define a function named `collect_divisors(x)` which returns the all positive divisors of x\n",
    "\n",
    "<https://en.wikipedia.org/wiki/Divisor>\n",
    "\n",
    "- Expected inputs：an integer `x`\n",
    "- Expected outputs：a list"
   ]
  },
  {
   "cell_type": "code",
   "execution_count": 21,
   "metadata": {},
   "outputs": [],
   "source": [
    "def collect_divisors(x):\n",
    "    \"\"\"\n",
    "    >>> collect_divisors(1)\n",
    "    [1]\n",
    "    >>> collect_divisors(2)\n",
    "    [1, 2]\n",
    "    >>> collect_divisors(3)\n",
    "    [1, 3]\n",
    "    >>> collect_divisors(4)\n",
    "    [1, 2, 4]\n",
    "    >>> collect_divisors(5)\n",
    "    [1, 5]\n",
    "    \"\"\"\n",
    "    ### BEGIN SOLUTION\n",
    "    divisors = []\n",
    "    for i in range(1, int(x/2)+1): # only need to look up 1 ~ (x/2)\n",
    "        if x % i == 0:\n",
    "            divisors.append(i)\n",
    "    divisors.append(x) # x is a divisor of itself\n",
    "    \n",
    "    return divisors\n",
    "    ### END SOLUTION"
   ]
  },
  {
   "cell_type": "markdown",
   "metadata": {},
   "source": [
    "## Define a function named `is_prime(x)` which returns whether x is a prime number or not\n",
    "\n",
    "https://en.wikipedia.org/wiki/Prime_number\n",
    "\n",
    "- Expected inputs：an integer `x`\n",
    "- Expected outputs：a bool"
   ]
  },
  {
   "cell_type": "code",
   "execution_count": 35,
   "metadata": {},
   "outputs": [],
   "source": [
    "def is_prime(x):\n",
    "    \"\"\"\n",
    "    >>> is_prime(1)\n",
    "    False\n",
    "    >>> is_prime(2)\n",
    "    True\n",
    "    >>> is_prime(3)\n",
    "    True\n",
    "    >>> is_prime(4)\n",
    "    False\n",
    "    >>> is_prime(5)\n",
    "    True\n",
    "    \"\"\"\n",
    "    ### BEGIN SOLUTION\n",
    "    if x < 2:          # 0 and 1 are not prime\n",
    "        return False\n",
    "    else:\n",
    "        for i in range(2,x):\n",
    "            if x % i == 0:\n",
    "                return False\n",
    "        return True\n",
    "    ### END SOLUTION"
   ]
  },
  {
   "cell_type": "markdown",
   "metadata": {},
   "source": [
    "## Define a function named `collect_primes(x, y)` which collects primes between x and y\n",
    "\n",
    "- Expected inputs：2 integers `x` and `y`\n",
    "- Expected outputs：a list"
   ]
  },
  {
   "cell_type": "code",
   "execution_count": 41,
   "metadata": {},
   "outputs": [],
   "source": [
    "def collect_primes(x, y):\n",
    "    \"\"\"\n",
    "    >>> collect_primes(1, 5)\n",
    "    [2, 3, 5]\n",
    "    >>> collect_primes(2, 12)\n",
    "    [2, 3, 5, 7, 11]\n",
    "    >>> collect_primes(55, 66)\n",
    "    [59, 61]\n",
    "    >>> collect_primes(83, 97)\n",
    "    [83, 89, 97]\n",
    "    \"\"\"\n",
    "    ### BEGIN SOLUTION\n",
    "    primes = []\n",
    "    for i in range(x, y+1):\n",
    "        if is_prime(i):\n",
    "            primes.append(i)\n",
    "    return primes\n",
    "    ### END SOLUTION"
   ]
  },
  {
   "cell_type": "markdown",
   "metadata": {},
   "source": [
    "## Define a function named `reverse_vowels(x)` converts the vowels in a word from upper-cased to lower-cased, and lower-cased to upper-cased.\n",
    "\n",
    "PS You may reach out to string's built-in function `x.swapcase()`.\n",
    "\n",
    "<https://docs.python.org/3/library/stdtypes.html#str.swapcase>\n",
    "\n",
    "- Expected inputs：a string `x`\n",
    "- Expected outputs：a string"
   ]
  },
  {
   "cell_type": "code",
   "execution_count": 68,
   "metadata": {},
   "outputs": [],
   "source": [
    "def reverse_vowels(x):\n",
    "    \"\"\"\n",
    "    >>> reverse_vowels('Luke Skywalker')\n",
    "    'LUkE SkywAlkEr'\n",
    "    >>> reverse_vowels('Darth Vadar')\n",
    "    'DArth VAdAr'\n",
    "    >>> reverse_vowels('The Avengers')\n",
    "    'ThE avEngErs'\n",
    "    \"\"\"\n",
    "    ### BEGIN SOLUTION\n",
    "    vowels = ['a','e','i','o','u','A','E','I','O','U']\n",
    "    result = []\n",
    "    \n",
    "    for i in range(len(x)):\n",
    "        if x[i] in vowels:\n",
    "            result.append(x[i].swapcase())\n",
    "        else:\n",
    "            result.append(x[i])\n",
    "    return \"\".join(result)  # casting from list to str\n",
    "    ### END SOLUTION"
   ]
  },
  {
   "cell_type": "markdown",
   "metadata": {},
   "source": [
    "## Define a function named `median(x)` which returns the median value of a given list\n",
    "\n",
    "<https://en.wikipedia.org/wiki/Median>\n",
    "\n",
    "- Expected inputs：a list `x`\n",
    "- Expected outputs：a numeric"
   ]
  },
  {
   "cell_type": "code",
   "execution_count": 81,
   "metadata": {},
   "outputs": [],
   "source": [
    "def median(x):\n",
    "    \"\"\"\n",
    "    >>> median([2, 3, 5, 7, 11])\n",
    "    5\n",
    "    >>> median([2, 3, 5, 7, 11, 13])\n",
    "    6\n",
    "    >>> median([11, 13, 17, 2, 3, 5, 7])\n",
    "    7\n",
    "    >>> median([7, 11, 13, 17, 19, 2, 3, 5])\n",
    "    9\n",
    "    \"\"\"\n",
    "    ### BEGIN SOLUTION\n",
    "    x.sort()\n",
    "    ind = int(len(x)/2)\n",
    "    \n",
    "    if len(x) % 2 == 0:\n",
    "        return int((x[ind-1] + x[ind])*0.5)\n",
    "    else:\n",
    "        return x[ind]\n",
    "    ### END SOLUTION"
   ]
  },
  {
   "cell_type": "markdown",
   "metadata": {},
   "source": [
    "## Define a function named `idxmax(x)` which returns the index of the max value of a given list\n",
    "\n",
    "- Expected inputs：a list `x`\n",
    "- Expected outputs：an integer or a list of integers"
   ]
  },
  {
   "cell_type": "code",
   "execution_count": 115,
   "metadata": {},
   "outputs": [],
   "source": [
    "def idxmax(x):\n",
    "    \"\"\"\n",
    "    >>> idxmax([2, 3, 5, 7, 11])\n",
    "    4\n",
    "    >>> idxmax([11, 7, 5, 3, 2])\n",
    "    0\n",
    "    >>> idxmax([5, 3, 2, 11, 7])\n",
    "    3\n",
    "    >>> idxmax([2, 3, 5, 7, 11, 11, 11])\n",
    "    [4, 5, 6]\n",
    "    >>> idxmax([11, 2, 3, 11, 5, 7, 11])\n",
    "    [0, 3, 6]\n",
    "    \"\"\"\n",
    "    ### BEGIN SOLUTION\n",
    "    maximum = max(x)\n",
    "    inds = []\n",
    "    \n",
    "    for i in range(len(x)):\n",
    "        if x[i] == maximum:\n",
    "            inds.append(i)\n",
    "            \n",
    "    if len(inds) == 1: # return one index if there's only one\n",
    "        return inds[0]\n",
    "    else:              # return the whole list if there are two or more\n",
    "        return inds\n",
    "    \n",
    "    ### END SOLUTION"
   ]
  },
  {
   "cell_type": "markdown",
   "metadata": {},
   "source": [
    "## Define a function named `mode(x)` which returns the mode of a given list\n",
    "\n",
    "<https://en.wikipedia.org/wiki/Mode_(statistics)>\n",
    "\n",
    "- Expected inputs：a list `x`\n",
    "- Expected outputs：an integer or a list of integers"
   ]
  },
  {
   "cell_type": "code",
   "execution_count": 143,
   "metadata": {},
   "outputs": [],
   "source": [
    "def mode(x):\n",
    "    \"\"\"\n",
    "    >>> mode([2, 2, 3, 5, 7, 11])\n",
    "    2\n",
    "    >>> mode([2, 3, 3, 5, 7, 11])\n",
    "    3\n",
    "    >>> mode([2, 2, 3, 3, 5, 7, 11])\n",
    "    [2, 3]\n",
    "    >>> mode([2, 2, 3, 3, 5, 7, 7, 7, 11, 11, 11])\n",
    "    [7, 11]\n",
    "    \"\"\"\n",
    "    ### BEGIN SOLUTION\n",
    "    count_dict = {}  # use to count frequency\n",
    "    for i in x:\n",
    "        if i not in count_dict:\n",
    "            cnt = x.count(i)\n",
    "            count_dict[i] = cnt\n",
    "    max_cnt = max(count_dict.values()) # maximum frequency\n",
    "\n",
    "    result = []\n",
    "    for key in count_dict.keys():\n",
    "        if count_dict[key] == max_cnt:\n",
    "            result.append(key)\n",
    "\n",
    "    if len(result) == 1: # return one index if there's only one\n",
    "        return result[0]\n",
    "    else:\n",
    "        return result   # return the whole list if there are two or more\n",
    "    ### END SOLUTION"
   ]
  },
  {
   "cell_type": "code",
   "execution_count": 147,
   "metadata": {},
   "outputs": [
    {
     "data": {
      "text/plain": [
       "[7, 11]"
      ]
     },
     "execution_count": 147,
     "metadata": {},
     "output_type": "execute_result"
    }
   ],
   "source": [
    "mode([2, 2, 3, 3, 5, 7, 7, 7, 11, 11, 11])"
   ]
  },
  {
   "cell_type": "markdown",
   "metadata": {
    "deletable": false,
    "editable": false
   },
   "source": [
    "## Run tests!\n",
    "\n",
    "Kernel -> Restart & Run All."
   ]
  },
  {
   "cell_type": "code",
   "execution_count": 148,
   "metadata": {
    "deletable": false,
    "editable": false
   },
   "outputs": [
    {
     "name": "stderr",
     "output_type": "stream",
     "text": [
      "test_00_find_bmi_label (__main__.TestHomeworkTwo) ... ok\n",
      "test_01_fizz_buzz (__main__.TestHomeworkTwo) ... ok\n",
      "test_02_check_types (__main__.TestHomeworkTwo) ... ok\n",
      "test_03_collect_divisors (__main__.TestHomeworkTwo) ... ok\n",
      "test_04_is_prime (__main__.TestHomeworkTwo) ... ok\n",
      "test_05_collect_primes (__main__.TestHomeworkTwo) ... ok\n",
      "test_06_reverse_vowel (__main__.TestHomeworkTwo) ... ok\n",
      "test_07_median (__main__.TestHomeworkTwo) ... ok\n",
      "test_08_idxmax (__main__.TestHomeworkTwo) ... ok\n",
      "test_09_mode (__main__.TestHomeworkTwo) ... ok\n",
      "\n",
      "----------------------------------------------------------------------\n",
      "Ran 10 tests in 0.012s\n",
      "\n",
      "OK\n"
     ]
    }
   ],
   "source": [
    "import unittest\n",
    "\n",
    "class TestHomeworkTwo(unittest.TestCase):\n",
    "    def test_00_find_bmi_label(self):\n",
    "        self.assertEqual(find_bmi_label(31.51), 'Obese')\n",
    "        self.assertEqual(find_bmi_label(32.90), 'Obese')\n",
    "        self.assertEqual(find_bmi_label(26.63), 'Overweight')\n",
    "        self.assertEqual(find_bmi_label(24.71), 'Normal weight')\n",
    "        self.assertEqual(find_bmi_label(17.05), 'Underweight')\n",
    "    def test_01_fizz_buzz(self):\n",
    "        self.assertEqual(fizz_buzz(3), 'Fizz')\n",
    "        self.assertEqual(fizz_buzz(5), 'Buzz')\n",
    "        self.assertEqual(fizz_buzz(15), 'Fizz Buzz')\n",
    "        self.assertEqual(fizz_buzz(16), 16)\n",
    "    def test_02_check_types(self):\n",
    "        self.assertEqual(check_types(1), 'int')\n",
    "        self.assertEqual(check_types(1.0), 'float')\n",
    "        self.assertEqual(check_types(True), 'bool')\n",
    "        self.assertEqual(check_types(False), 'bool')\n",
    "        self.assertEqual(check_types('5566'), 'str')\n",
    "        self.assertEqual(check_types(None), 'NoneType')\n",
    "    def test_03_collect_divisors(self):\n",
    "        self.assertEqual(collect_divisors(1), [1])\n",
    "        self.assertEqual(collect_divisors(2), [1, 2])\n",
    "        self.assertEqual(collect_divisors(3), [1, 3])\n",
    "        self.assertEqual(collect_divisors(4), [1, 2, 4])\n",
    "        self.assertEqual(collect_divisors(5), [1, 5])\n",
    "    def test_04_is_prime(self):\n",
    "        self.assertFalse(is_prime(1))\n",
    "        self.assertTrue(is_prime(2))\n",
    "        self.assertTrue(is_prime(3))\n",
    "        self.assertFalse(is_prime(4))\n",
    "        self.assertTrue(is_prime(5))\n",
    "    def test_05_collect_primes(self):\n",
    "        self.assertEqual(collect_primes(1, 5), [2, 3, 5])\n",
    "        self.assertEqual(collect_primes(2, 12), [2, 3, 5, 7, 11])\n",
    "        self.assertEqual(collect_primes(55, 66), [59, 61])\n",
    "        self.assertEqual(collect_primes(83, 97), [83, 89, 97])\n",
    "    def test_06_reverse_vowel(self):\n",
    "        self.assertEqual(reverse_vowels('Luke Skywalker'), 'LUkE SkywAlkEr')\n",
    "        self.assertEqual(reverse_vowels('The Avengers'), 'ThE avEngErs')\n",
    "        self.assertEqual(reverse_vowels('Darth Vadar'), 'DArth VAdAr')\n",
    "    def test_07_median(self):\n",
    "        self.assertEqual(median([2, 3, 5, 7, 11]), 5)\n",
    "        self.assertEqual(median([2, 3, 5, 7, 11, 13]), 6)\n",
    "        self.assertEqual(median([11, 13, 17, 2, 3, 5, 7]), 7)\n",
    "        self.assertEqual(median([7, 11, 13, 17, 19, 2, 3, 5]), 9)\n",
    "    def test_08_idxmax(self):\n",
    "        self.assertEqual(idxmax([2, 3, 5, 7, 11]), 4)\n",
    "        self.assertEqual(idxmax([11, 7, 5, 3, 2]), 0)\n",
    "        self.assertEqual(idxmax([5, 3, 2, 11, 7]), 3)\n",
    "        self.assertEqual(idxmax([2, 3, 5, 7, 11, 11, 11]), [4, 5, 6])\n",
    "        self.assertEqual(idxmax([11, 2, 3, 11, 5, 7, 11]), [0, 3, 6])\n",
    "    def test_09_mode(self):\n",
    "        self.assertEqual(mode([2, 2, 3, 5, 7, 11]), 2)\n",
    "        self.assertEqual(mode([2, 3, 3, 5, 7, 11]), 3)\n",
    "        self.assertEqual(mode([2, 2, 3, 3, 5, 7, 11]), [2, 3])\n",
    "        self.assertEqual(mode([2, 2, 3, 3, 5, 7, 7, 7, 11, 11, 11]), [7, 11])\n",
    "\n",
    "suite = unittest.TestLoader().loadTestsFromTestCase(TestHomeworkTwo)\n",
    "runner = unittest.TextTestRunner(verbosity=2)\n",
    "test_results = runner.run(suite)\n",
    "number_of_failures = len(test_results.failures)\n",
    "number_of_errors = len(test_results.errors)\n",
    "number_of_test_runs = test_results.testsRun\n",
    "number_of_successes = number_of_test_runs - (number_of_failures + number_of_errors)"
   ]
  },
  {
   "cell_type": "code",
   "execution_count": 149,
   "metadata": {
    "deletable": false,
    "editable": false
   },
   "outputs": [
    {
     "name": "stdout",
     "output_type": "stream",
     "text": [
      "You've got 10 successes among 10 questions.\n"
     ]
    }
   ],
   "source": [
    "print(\"You've got {} successes among {} questions.\".format(number_of_successes, number_of_test_runs))"
   ]
  },
  {
   "cell_type": "code",
   "execution_count": null,
   "metadata": {},
   "outputs": [],
   "source": []
  }
 ],
 "metadata": {
  "kernelspec": {
   "display_name": "Python 3",
   "language": "python",
   "name": "python3"
  },
  "language_info": {
   "codemirror_mode": {
    "name": "ipython",
    "version": 3
   },
   "file_extension": ".py",
   "mimetype": "text/x-python",
   "name": "python",
   "nbconvert_exporter": "python",
   "pygments_lexer": "ipython3",
   "version": "3.8.6"
  }
 },
 "nbformat": 4,
 "nbformat_minor": 4
}
